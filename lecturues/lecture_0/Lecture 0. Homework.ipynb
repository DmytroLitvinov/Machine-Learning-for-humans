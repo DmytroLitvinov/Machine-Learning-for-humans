{
 "cells": [
  {
   "metadata": {},
   "cell_type": "markdown",
   "source": "# Homework for Lecture 0 to practice creating cells",
   "id": "1846b933bd954e15"
  },
  {
   "metadata": {
    "ExecuteTime": {
     "end_time": "2024-12-07T17:12:54.999377Z",
     "start_time": "2024-12-07T17:12:48.967576Z"
    }
   },
   "cell_type": "code",
   "source": [
    "print('Installing pandas...')\n",
    "!pip install pandas\n",
    "print('Finished installing pandas!')"
   ],
   "id": "7ece24d66fc85485",
   "outputs": [
    {
     "name": "stdout",
     "output_type": "stream",
     "text": [
      "Installing pandas...\n",
      "Collecting pandas\r\n",
      "  Downloading pandas-2.2.3-cp312-cp312-macosx_11_0_arm64.whl.metadata (89 kB)\r\n",
      "Collecting numpy>=1.26.0 (from pandas)\r\n",
      "  Downloading numpy-2.1.3-cp312-cp312-macosx_14_0_arm64.whl.metadata (62 kB)\r\n",
      "Requirement already satisfied: python-dateutil>=2.8.2 in /Users/dmytro/Code/MachineLearning/machine-learning-for-humans-2.0/.venv/lib/python3.12/site-packages (from pandas) (2.9.0.post0)\r\n",
      "Collecting pytz>=2020.1 (from pandas)\r\n",
      "  Downloading pytz-2024.2-py2.py3-none-any.whl.metadata (22 kB)\r\n",
      "Collecting tzdata>=2022.7 (from pandas)\r\n",
      "  Downloading tzdata-2024.2-py2.py3-none-any.whl.metadata (1.4 kB)\r\n",
      "Requirement already satisfied: six>=1.5 in /Users/dmytro/Code/MachineLearning/machine-learning-for-humans-2.0/.venv/lib/python3.12/site-packages (from python-dateutil>=2.8.2->pandas) (1.17.0)\r\n",
      "Downloading pandas-2.2.3-cp312-cp312-macosx_11_0_arm64.whl (11.4 MB)\r\n",
      "\u001B[2K   \u001B[90m━━━━━━━━━━━━━━━━━━━━━━━━━━━━━━━━━━━━━━━━\u001B[0m \u001B[32m11.4/11.4 MB\u001B[0m \u001B[31m31.0 MB/s\u001B[0m eta \u001B[36m0:00:00\u001B[0m00:01\u001B[0m0:01\u001B[0m\r\n",
      "\u001B[?25hDownloading numpy-2.1.3-cp312-cp312-macosx_14_0_arm64.whl (5.1 MB)\r\n",
      "\u001B[2K   \u001B[90m━━━━━━━━━━━━━━━━━━━━━━━━━━━━━━━━━━━━━━━━\u001B[0m \u001B[32m5.1/5.1 MB\u001B[0m \u001B[31m46.3 MB/s\u001B[0m eta \u001B[36m0:00:00\u001B[0m\r\n",
      "\u001B[?25hDownloading pytz-2024.2-py2.py3-none-any.whl (508 kB)\r\n",
      "Downloading tzdata-2024.2-py2.py3-none-any.whl (346 kB)\r\n",
      "Installing collected packages: pytz, tzdata, numpy, pandas\r\n",
      "Successfully installed numpy-2.1.3 pandas-2.2.3 pytz-2024.2 tzdata-2024.2\r\n",
      "Finished installing pandas!\n"
     ]
    }
   ],
   "execution_count": 2
  },
  {
   "metadata": {},
   "cell_type": "markdown",
   "source": "**Example of using pandas**",
   "id": "fbfac39a3073f1e8"
  },
  {
   "metadata": {
    "ExecuteTime": {
     "end_time": "2024-12-07T17:15:31.759412Z",
     "start_time": "2024-12-07T17:15:31.756744Z"
    }
   },
   "cell_type": "code",
   "source": "import pandas as pd",
   "id": "f998f8549f897bf2",
   "outputs": [],
   "execution_count": 4
  },
  {
   "metadata": {
    "ExecuteTime": {
     "end_time": "2024-12-07T17:16:05.829640Z",
     "start_time": "2024-12-07T17:16:05.827215Z"
    }
   },
   "cell_type": "code",
   "source": [
    "# Preparing data\n",
    "data = {'Name': ['Tom', 'Nick', 'John', 'Ann'],\n",
    "        'Age': [20, 21, 19, 18]}"
   ],
   "id": "5e93f97c599e7459",
   "outputs": [],
   "execution_count": 6
  },
  {
   "metadata": {
    "ExecuteTime": {
     "end_time": "2024-12-07T17:16:19.625199Z",
     "start_time": "2024-12-07T17:16:19.621666Z"
    }
   },
   "cell_type": "code",
   "source": [
    "# Create DataFrame and print it\n",
    "df = pd.DataFrame(data)\n",
    "\n",
    "print(df)"
   ],
   "id": "159ce19a4ce5794f",
   "outputs": [
    {
     "name": "stdout",
     "output_type": "stream",
     "text": [
      "   Name  Age\n",
      "0   Tom   20\n",
      "1  Nick   21\n",
      "2  John   19\n",
      "3   Ann   18\n"
     ]
    }
   ],
   "execution_count": 8
  }
 ],
 "metadata": {
  "kernelspec": {
   "display_name": "Python 3",
   "language": "python",
   "name": "python3"
  },
  "language_info": {
   "codemirror_mode": {
    "name": "ipython",
    "version": 2
   },
   "file_extension": ".py",
   "mimetype": "text/x-python",
   "name": "python",
   "nbconvert_exporter": "python",
   "pygments_lexer": "ipython2",
   "version": "2.7.6"
  }
 },
 "nbformat": 4,
 "nbformat_minor": 5
}
