{
 "nbformat": 4,
 "nbformat_minor": 0,
 "metadata": {
  "colab": {
   "provenance": []
  },
  "kernelspec": {
   "name": "python3",
   "display_name": "Python 3 (ipykernel)",
   "language": "python"
  },
  "language_info": {
   "name": "python"
  }
 },
 "cells": [
  {
   "cell_type": "markdown",
   "source": [
    "В цьому домашньому завданні ми з вами побудуємо повноцінне ML-рішення реальної ML-задачі. Ви вже маєте всі знання, які для цього потрібні. Дотримуйтесь інструкцій, та користуйтесь матеріалами лекцій, аби виконувати завдання. Тут інструкції будуть детальні, а в подільших завданнях - будуть ставати все менш детальними, аби ви вже починали самостійно структурувати ML-проєкт і до кінця курсу для вас розвʼязати будь-яку ML–задачу було eazy-breezy.\n",
    "\n",
    "## Dataset\n",
    "\n",
    "Будемо працювати з набором даних `cars.csv`, який описує автомобілі і їх ціну у індійських рупіях :) Мета - передбачити ціну авто за його характеристиками. Опис набору даних:\n",
    "\n",
    "| Назва рядка            | Опис                                                                                                                                                 |\n",
    "|------------------------|--------------------------------------------------------------------------------------------------------------------------------------------------------|\n",
    "| Car_ID                 | Унікальний ідентифікатор для кожного оголошення про автомобіль.                                                                                         |\n",
    "| Brand                  | Бренд або виробник автомобіля (наприклад, Toyota, Honda, Ford тощо).                                                                                     |\n",
    "| Model                  | Модель автомобіля (наприклад, Camry, Civic, Mustang тощо).                                                                                               |\n",
    "| Year                   | Рік виготовлення автомобіля.                                                                                                                            |\n",
    "| Kilometers_Driven      | Загальний пробіг автомобіля у кілометрах.                                                                                                               |\n",
    "| Fuel_Type              | Тип палива, який використовує автомобіль (наприклад, бензин, дизель, електро тощо).                                                                      |\n",
    "| Transmission           | Тип трансмісії автомобіля (наприклад, механічна, автоматична).                                                                                           |\n",
    "| Owner_Type             | Кількість попередніх власників автомобіля (наприклад, перший, другий, третій).                                                                           |\n",
    "| Mileage                | Паливна ефективність автомобіля у кілометрах на літр.                                                                                                   |\n",
    "| Engine                 | Об'єм двигуна автомобіля в кубічних сантиметрах (CC).                                                                                                   |\n",
    "| Power                  | Максимальна потужність автомобіля в кінських силах (bhp).                                                                                               |\n",
    "| Seats                  | Кількість місць в автомобілі.                                                                                                                           |\n",
    "| Price                  | Вартість автомобіля в INR (індійські рупії), що є цільовою змінною для прогнозування.                                                                   |"
   ],
   "metadata": {
    "id": "87fwNK3xoy5K"
   }
  },
  {
   "cell_type": "markdown",
   "metadata": {
    "papermill": {
     "duration": 0.006069,
     "end_time": "2024-05-08T20:04:53.925383",
     "exception": false,
     "start_time": "2024-05-08T20:04:53.919314",
     "status": "completed"
    },
    "tags": [],
    "id": "52f35fee"
   },
   "source": [
    "# Імпорти\n",
    "\n",
    "Для зручності рекомендую всі імпорти розмістити тут нагорі, аби коли ви перезавантажували ноутбук, одразу можна було в один запуск клітинки імпортувати всі потрібні бібліотеки."
   ]
  },
  {
   "cell_type": "code",
   "metadata": {
    "execution": {
     "iopub.execute_input": "2024-05-08T20:04:53.940205Z",
     "iopub.status.busy": "2024-05-08T20:04:53.939265Z",
     "iopub.status.idle": "2024-05-08T20:04:56.366812Z",
     "shell.execute_reply": "2024-05-08T20:04:56.365880Z"
    },
    "papermill": {
     "duration": 2.43769,
     "end_time": "2024-05-08T20:04:56.369349",
     "exception": false,
     "start_time": "2024-05-08T20:04:53.931659",
     "status": "completed"
    },
    "tags": [],
    "id": "0a49b1bb",
    "ExecuteTime": {
     "end_time": "2025-01-12T18:42:21.955393Z",
     "start_time": "2025-01-12T18:42:21.952855Z"
    }
   },
   "source": [
    "import numpy as np\n",
    "import pandas as pd\n",
    "import seaborn as sns\n",
    "import statsmodels.api as sm\n",
    "from matplotlib import pyplot as plt\n",
    "from sklearn.linear_model import LinearRegression\n",
    "from sklearn.metrics import root_mean_squared_error\n",
    "from sklearn.model_selection import train_test_split\n",
    "from sklearn import preprocessing\n",
    "\n",
    "from modules.modules_2.topic_2_1.utils import analyze_dataframe"
   ],
   "outputs": [],
   "execution_count": 398
  },
  {
   "cell_type": "markdown",
   "source": [
    "# Знайомство з даними"
   ],
   "metadata": {
    "id": "mpKIfgg-FV98"
   }
  },
  {
   "cell_type": "markdown",
   "metadata": {
    "papermill": {
     "duration": 0.006026,
     "end_time": "2024-05-08T20:04:56.381857",
     "exception": false,
     "start_time": "2024-05-08T20:04:56.375831",
     "status": "completed"
    },
    "tags": [],
    "id": "fc07024e"
   },
   "source": [
    "**Завдання 1.** Завантажте набір даних `cars.csv` в pandas.DataFrame. Виведіть перші 5 записів."
   ]
  },
  {
   "cell_type": "code",
   "source": "df = pd.read_csv('cars.csv')",
   "metadata": {
    "id": "lKtSXyENfJxD",
    "ExecuteTime": {
     "end_time": "2025-01-12T18:42:21.998961Z",
     "start_time": "2025-01-12T18:42:21.996273Z"
    }
   },
   "outputs": [],
   "execution_count": 399
  },
  {
   "cell_type": "markdown",
   "source": [
    "# **Завдання 2.**\n",
    "\n",
    "Виведіть типи даних колонок даних, а також дослідіть, які по факту типи даних мають записи в кожній колонці (тип `object` може містити різні типи даних) і скільки значень є в кожній категоріальній колонці.\n",
    "\n",
    "Напишіть висновок, скільки в наборі даних числових та категоріальних колонок кожного з трьох різних типів (бінарна, мільтикатегоріальна без порядку, мультикатегоріальна з порядком). Шаблон висновку\n",
    "\n",
    "```\n",
    "В наборі даних 10 числових і 10 категоріальних колонок з них\n",
    "- 2 бінарні (мають лише 2 значення)\n",
    "- 6 мультикатегоріальних (більше 2х значень) зі значеннями, для яких немає відношення порядку\n",
    "- 2 колонки, в яких можна встановити відношення порядку (наприклад Small<Medium<Large)\n",
    "```\n",
    "\n",
    "Якщо не знаєте, як це зробити з `pandas` - ось підказка, які методи можуть допомогти вам виконати це завдання\n",
    "\n",
    "- pandas.DataFrame.info()\n",
    "- pandas.DataFrame.dtypes\n",
    "- pandas.DataFrame.loc[...]\n",
    "- pandas.DataFrame.select_dtypes(...)\n",
    "- pandas.Series.unique()\n",
    "- pandas.Series.nunique()\n",
    "\n",
    "Детальніше ознайомитись з кожним ви можете в [документації](https://pandas.pydata.org/docs/reference/frame.html), або написати в окремій клітинці знак питання і назву методу (тільки приберіть це перед здачею, бо перегляд документації - не допомагає зрозуміти дані і хід думок, а Ваша робота - це як презентація замовнику зробленої задачі).\n"
   ],
   "metadata": {
    "id": "BlayjhivF7Ha"
   }
  },
  {
   "cell_type": "code",
   "source": [
    "# приклад як викликати документацію, якщо у Вас pandas імпортований як pd\n",
    "?pd.DataFrame.info"
   ],
   "metadata": {
    "id": "jRUUJd2CJW3s",
    "ExecuteTime": {
     "end_time": "2025-01-12T18:42:22.012623Z",
     "start_time": "2025-01-12T18:42:22.010015Z"
    }
   },
   "outputs": [],
   "execution_count": 400
  },
  {
   "metadata": {},
   "cell_type": "markdown",
   "source": "## EDA - Exploratory Data Analysis"
  },
  {
   "metadata": {},
   "cell_type": "markdown",
   "source": "### Огляд декількох записів з датафрейму"
  },
  {
   "cell_type": "code",
   "source": "df.head(n=10)",
   "metadata": {
    "id": "a9bTpxKtfL7H",
    "ExecuteTime": {
     "end_time": "2025-01-12T18:42:22.045369Z",
     "start_time": "2025-01-12T18:42:22.040984Z"
    }
   },
   "outputs": [
    {
     "data": {
      "text/plain": [
       "   Car_ID       Brand    Model  Year  Kilometers_Driven Fuel_Type  \\\n",
       "0       1      Toyota  Corolla  2018              50000    Petrol   \n",
       "1       2       Honda    Civic  2019              40000    Petrol   \n",
       "2       3        Ford  Mustang  2017              20000    Petrol   \n",
       "3       4      Maruti    Swift  2020              30000    Diesel   \n",
       "4       5     Hyundai   Sonata  2016              60000    Diesel   \n",
       "5       6        Tata    Nexon  2019              35000    Petrol   \n",
       "6       7    Mahindra  Scorpio  2018              45000    Diesel   \n",
       "7       8  Volkswagen     Polo  2020              25000    Petrol   \n",
       "8       9        Audi       A4  2017              30000    Diesel   \n",
       "9      10         BMW       X1  2019              20000    Diesel   \n",
       "\n",
       "  Transmission Owner_Type  Mileage  Engine  Power  Seats    Price  \n",
       "0       Manual      First       15    1498    108      5   800000  \n",
       "1    Automatic     Second       17    1597    140      5  1000000  \n",
       "2    Automatic      First       10    4951    395      4  2500000  \n",
       "3       Manual      Third       23    1248     74      5   600000  \n",
       "4    Automatic     Second       18    1999    194      5   850000  \n",
       "5       Manual      First       17    1198    108      5   750000  \n",
       "6    Automatic     Second       15    2179    140      7   900000  \n",
       "7    Automatic      First       18     999     76      5   650000  \n",
       "8    Automatic      First       18    1968    187      5  2200000  \n",
       "9    Automatic     Second       20    1995    190      5  2700000  "
      ],
      "text/html": [
       "<div>\n",
       "<style scoped>\n",
       "    .dataframe tbody tr th:only-of-type {\n",
       "        vertical-align: middle;\n",
       "    }\n",
       "\n",
       "    .dataframe tbody tr th {\n",
       "        vertical-align: top;\n",
       "    }\n",
       "\n",
       "    .dataframe thead th {\n",
       "        text-align: right;\n",
       "    }\n",
       "</style>\n",
       "<table border=\"1\" class=\"dataframe\">\n",
       "  <thead>\n",
       "    <tr style=\"text-align: right;\">\n",
       "      <th></th>\n",
       "      <th>Car_ID</th>\n",
       "      <th>Brand</th>\n",
       "      <th>Model</th>\n",
       "      <th>Year</th>\n",
       "      <th>Kilometers_Driven</th>\n",
       "      <th>Fuel_Type</th>\n",
       "      <th>Transmission</th>\n",
       "      <th>Owner_Type</th>\n",
       "      <th>Mileage</th>\n",
       "      <th>Engine</th>\n",
       "      <th>Power</th>\n",
       "      <th>Seats</th>\n",
       "      <th>Price</th>\n",
       "    </tr>\n",
       "  </thead>\n",
       "  <tbody>\n",
       "    <tr>\n",
       "      <th>0</th>\n",
       "      <td>1</td>\n",
       "      <td>Toyota</td>\n",
       "      <td>Corolla</td>\n",
       "      <td>2018</td>\n",
       "      <td>50000</td>\n",
       "      <td>Petrol</td>\n",
       "      <td>Manual</td>\n",
       "      <td>First</td>\n",
       "      <td>15</td>\n",
       "      <td>1498</td>\n",
       "      <td>108</td>\n",
       "      <td>5</td>\n",
       "      <td>800000</td>\n",
       "    </tr>\n",
       "    <tr>\n",
       "      <th>1</th>\n",
       "      <td>2</td>\n",
       "      <td>Honda</td>\n",
       "      <td>Civic</td>\n",
       "      <td>2019</td>\n",
       "      <td>40000</td>\n",
       "      <td>Petrol</td>\n",
       "      <td>Automatic</td>\n",
       "      <td>Second</td>\n",
       "      <td>17</td>\n",
       "      <td>1597</td>\n",
       "      <td>140</td>\n",
       "      <td>5</td>\n",
       "      <td>1000000</td>\n",
       "    </tr>\n",
       "    <tr>\n",
       "      <th>2</th>\n",
       "      <td>3</td>\n",
       "      <td>Ford</td>\n",
       "      <td>Mustang</td>\n",
       "      <td>2017</td>\n",
       "      <td>20000</td>\n",
       "      <td>Petrol</td>\n",
       "      <td>Automatic</td>\n",
       "      <td>First</td>\n",
       "      <td>10</td>\n",
       "      <td>4951</td>\n",
       "      <td>395</td>\n",
       "      <td>4</td>\n",
       "      <td>2500000</td>\n",
       "    </tr>\n",
       "    <tr>\n",
       "      <th>3</th>\n",
       "      <td>4</td>\n",
       "      <td>Maruti</td>\n",
       "      <td>Swift</td>\n",
       "      <td>2020</td>\n",
       "      <td>30000</td>\n",
       "      <td>Diesel</td>\n",
       "      <td>Manual</td>\n",
       "      <td>Third</td>\n",
       "      <td>23</td>\n",
       "      <td>1248</td>\n",
       "      <td>74</td>\n",
       "      <td>5</td>\n",
       "      <td>600000</td>\n",
       "    </tr>\n",
       "    <tr>\n",
       "      <th>4</th>\n",
       "      <td>5</td>\n",
       "      <td>Hyundai</td>\n",
       "      <td>Sonata</td>\n",
       "      <td>2016</td>\n",
       "      <td>60000</td>\n",
       "      <td>Diesel</td>\n",
       "      <td>Automatic</td>\n",
       "      <td>Second</td>\n",
       "      <td>18</td>\n",
       "      <td>1999</td>\n",
       "      <td>194</td>\n",
       "      <td>5</td>\n",
       "      <td>850000</td>\n",
       "    </tr>\n",
       "    <tr>\n",
       "      <th>5</th>\n",
       "      <td>6</td>\n",
       "      <td>Tata</td>\n",
       "      <td>Nexon</td>\n",
       "      <td>2019</td>\n",
       "      <td>35000</td>\n",
       "      <td>Petrol</td>\n",
       "      <td>Manual</td>\n",
       "      <td>First</td>\n",
       "      <td>17</td>\n",
       "      <td>1198</td>\n",
       "      <td>108</td>\n",
       "      <td>5</td>\n",
       "      <td>750000</td>\n",
       "    </tr>\n",
       "    <tr>\n",
       "      <th>6</th>\n",
       "      <td>7</td>\n",
       "      <td>Mahindra</td>\n",
       "      <td>Scorpio</td>\n",
       "      <td>2018</td>\n",
       "      <td>45000</td>\n",
       "      <td>Diesel</td>\n",
       "      <td>Automatic</td>\n",
       "      <td>Second</td>\n",
       "      <td>15</td>\n",
       "      <td>2179</td>\n",
       "      <td>140</td>\n",
       "      <td>7</td>\n",
       "      <td>900000</td>\n",
       "    </tr>\n",
       "    <tr>\n",
       "      <th>7</th>\n",
       "      <td>8</td>\n",
       "      <td>Volkswagen</td>\n",
       "      <td>Polo</td>\n",
       "      <td>2020</td>\n",
       "      <td>25000</td>\n",
       "      <td>Petrol</td>\n",
       "      <td>Automatic</td>\n",
       "      <td>First</td>\n",
       "      <td>18</td>\n",
       "      <td>999</td>\n",
       "      <td>76</td>\n",
       "      <td>5</td>\n",
       "      <td>650000</td>\n",
       "    </tr>\n",
       "    <tr>\n",
       "      <th>8</th>\n",
       "      <td>9</td>\n",
       "      <td>Audi</td>\n",
       "      <td>A4</td>\n",
       "      <td>2017</td>\n",
       "      <td>30000</td>\n",
       "      <td>Diesel</td>\n",
       "      <td>Automatic</td>\n",
       "      <td>First</td>\n",
       "      <td>18</td>\n",
       "      <td>1968</td>\n",
       "      <td>187</td>\n",
       "      <td>5</td>\n",
       "      <td>2200000</td>\n",
       "    </tr>\n",
       "    <tr>\n",
       "      <th>9</th>\n",
       "      <td>10</td>\n",
       "      <td>BMW</td>\n",
       "      <td>X1</td>\n",
       "      <td>2019</td>\n",
       "      <td>20000</td>\n",
       "      <td>Diesel</td>\n",
       "      <td>Automatic</td>\n",
       "      <td>Second</td>\n",
       "      <td>20</td>\n",
       "      <td>1995</td>\n",
       "      <td>190</td>\n",
       "      <td>5</td>\n",
       "      <td>2700000</td>\n",
       "    </tr>\n",
       "  </tbody>\n",
       "</table>\n",
       "</div>"
      ]
     },
     "execution_count": 401,
     "metadata": {},
     "output_type": "execute_result"
    }
   ],
   "execution_count": 401
  },
  {
   "metadata": {},
   "cell_type": "markdown",
   "source": "### Перевірка структури даних"
  },
  {
   "metadata": {
    "ExecuteTime": {
     "end_time": "2025-01-12T18:42:22.090348Z",
     "start_time": "2025-01-12T18:42:22.086999Z"
    }
   },
   "cell_type": "code",
   "source": [
    "# Перегляд основної інформації про датасет\n",
    "df.info(verbose=True, show_counts=True)\n",
    "print('Перевірка розмірності даних:', df.shape)"
   ],
   "outputs": [
    {
     "name": "stdout",
     "output_type": "stream",
     "text": [
      "<class 'pandas.core.frame.DataFrame'>\n",
      "RangeIndex: 100 entries, 0 to 99\n",
      "Data columns (total 13 columns):\n",
      " #   Column             Non-Null Count  Dtype \n",
      "---  ------             --------------  ----- \n",
      " 0   Car_ID             100 non-null    int64 \n",
      " 1   Brand              100 non-null    object\n",
      " 2   Model              100 non-null    object\n",
      " 3   Year               100 non-null    int64 \n",
      " 4   Kilometers_Driven  100 non-null    int64 \n",
      " 5   Fuel_Type          100 non-null    object\n",
      " 6   Transmission       100 non-null    object\n",
      " 7   Owner_Type         100 non-null    object\n",
      " 8   Mileage            100 non-null    int64 \n",
      " 9   Engine             100 non-null    int64 \n",
      " 10  Power              100 non-null    int64 \n",
      " 11  Seats              100 non-null    int64 \n",
      " 12  Price              100 non-null    int64 \n",
      "dtypes: int64(8), object(5)\n",
      "memory usage: 10.3+ KB\n",
      "Перевірка розмірності даних: (100, 13)\n"
     ]
    }
   ],
   "execution_count": 402
  },
  {
   "metadata": {},
   "cell_type": "markdown",
   "source": "Маємо 100 рядків та 13 колонок в наборі даних"
  },
  {
   "metadata": {
    "ExecuteTime": {
     "end_time": "2025-01-12T18:42:22.111393Z",
     "start_time": "2025-01-12T18:42:22.109279Z"
    }
   },
   "cell_type": "code",
   "source": "analyze_dataframe(df)",
   "outputs": [
    {
     "name": "stdout",
     "output_type": "stream",
     "text": [
      "Кількість числових колонок: 8\n",
      "Кількість категоріальних колонок: 5\n",
      " - Бінарних: 2\n",
      " - Мультикатегоріальних: 3\n",
      "Числові колонки: ['Car_ID', 'Year', 'Kilometers_Driven', 'Mileage', 'Engine', 'Power', 'Seats', 'Price']\n",
      "Категоріальні колонки: ['Brand', 'Model', 'Fuel_Type', 'Transmission', 'Owner_Type']\n",
      "Бінарні колонки: ['Fuel_Type', 'Transmission']\n",
      "Мультикатегоріальні колонки: ['Brand', 'Model', 'Owner_Type']\n"
     ]
    }
   ],
   "execution_count": 403
  },
  {
   "metadata": {},
   "cell_type": "markdown",
   "source": "### Статистичний звіт для числових змінних"
  },
  {
   "metadata": {
    "ExecuteTime": {
     "end_time": "2025-01-12T18:42:22.145214Z",
     "start_time": "2025-01-12T18:42:22.137207Z"
    }
   },
   "cell_type": "code",
   "source": "df.describe(percentiles=[0.25, 0.5, 0.75, 0.99, 0.999])",
   "outputs": [
    {
     "data": {
      "text/plain": [
       "           Car_ID        Year  Kilometers_Driven     Mileage       Engine  \\\n",
       "count  100.000000   100.00000         100.000000  100.000000   100.000000   \n",
       "mean    50.500000  2018.39000       28150.000000   17.210000  1855.230000   \n",
       "std     29.011492     1.17116        9121.375716    3.309902   631.311475   \n",
       "min      1.000000  2016.00000       10000.000000   10.000000   999.000000   \n",
       "25%     25.750000  2017.75000       22000.000000   15.000000  1462.000000   \n",
       "50%     50.500000  2018.00000       27000.000000   17.000000  1774.000000   \n",
       "75%     75.250000  2019.00000       32000.000000   19.000000  2143.000000   \n",
       "99%     99.010000  2021.00000       50100.000000   25.000000  3017.530000   \n",
       "99.9%   99.901000  2021.00000       59010.000000   25.000000  4757.653000   \n",
       "max    100.000000  2021.00000       60000.000000   25.000000  4951.000000   \n",
       "\n",
       "            Power       Seats         Price  \n",
       "count  100.000000  100.000000  1.000000e+02  \n",
       "mean   158.130000    5.230000  1.574000e+06  \n",
       "std     76.968137    0.750151  1.000265e+06  \n",
       "min     68.000000    4.000000  4.500000e+05  \n",
       "25%    103.000000    5.000000  7.000000e+05  \n",
       "50%    148.000000    5.000000  1.300000e+06  \n",
       "75%    187.000000    5.000000  2.500000e+06  \n",
       "99%    396.000000    7.000000  4.000000e+06  \n",
       "99.9%  396.000000    7.000000  4.000000e+06  \n",
       "max    396.000000    7.000000  4.000000e+06  "
      ],
      "text/html": [
       "<div>\n",
       "<style scoped>\n",
       "    .dataframe tbody tr th:only-of-type {\n",
       "        vertical-align: middle;\n",
       "    }\n",
       "\n",
       "    .dataframe tbody tr th {\n",
       "        vertical-align: top;\n",
       "    }\n",
       "\n",
       "    .dataframe thead th {\n",
       "        text-align: right;\n",
       "    }\n",
       "</style>\n",
       "<table border=\"1\" class=\"dataframe\">\n",
       "  <thead>\n",
       "    <tr style=\"text-align: right;\">\n",
       "      <th></th>\n",
       "      <th>Car_ID</th>\n",
       "      <th>Year</th>\n",
       "      <th>Kilometers_Driven</th>\n",
       "      <th>Mileage</th>\n",
       "      <th>Engine</th>\n",
       "      <th>Power</th>\n",
       "      <th>Seats</th>\n",
       "      <th>Price</th>\n",
       "    </tr>\n",
       "  </thead>\n",
       "  <tbody>\n",
       "    <tr>\n",
       "      <th>count</th>\n",
       "      <td>100.000000</td>\n",
       "      <td>100.00000</td>\n",
       "      <td>100.000000</td>\n",
       "      <td>100.000000</td>\n",
       "      <td>100.000000</td>\n",
       "      <td>100.000000</td>\n",
       "      <td>100.000000</td>\n",
       "      <td>1.000000e+02</td>\n",
       "    </tr>\n",
       "    <tr>\n",
       "      <th>mean</th>\n",
       "      <td>50.500000</td>\n",
       "      <td>2018.39000</td>\n",
       "      <td>28150.000000</td>\n",
       "      <td>17.210000</td>\n",
       "      <td>1855.230000</td>\n",
       "      <td>158.130000</td>\n",
       "      <td>5.230000</td>\n",
       "      <td>1.574000e+06</td>\n",
       "    </tr>\n",
       "    <tr>\n",
       "      <th>std</th>\n",
       "      <td>29.011492</td>\n",
       "      <td>1.17116</td>\n",
       "      <td>9121.375716</td>\n",
       "      <td>3.309902</td>\n",
       "      <td>631.311475</td>\n",
       "      <td>76.968137</td>\n",
       "      <td>0.750151</td>\n",
       "      <td>1.000265e+06</td>\n",
       "    </tr>\n",
       "    <tr>\n",
       "      <th>min</th>\n",
       "      <td>1.000000</td>\n",
       "      <td>2016.00000</td>\n",
       "      <td>10000.000000</td>\n",
       "      <td>10.000000</td>\n",
       "      <td>999.000000</td>\n",
       "      <td>68.000000</td>\n",
       "      <td>4.000000</td>\n",
       "      <td>4.500000e+05</td>\n",
       "    </tr>\n",
       "    <tr>\n",
       "      <th>25%</th>\n",
       "      <td>25.750000</td>\n",
       "      <td>2017.75000</td>\n",
       "      <td>22000.000000</td>\n",
       "      <td>15.000000</td>\n",
       "      <td>1462.000000</td>\n",
       "      <td>103.000000</td>\n",
       "      <td>5.000000</td>\n",
       "      <td>7.000000e+05</td>\n",
       "    </tr>\n",
       "    <tr>\n",
       "      <th>50%</th>\n",
       "      <td>50.500000</td>\n",
       "      <td>2018.00000</td>\n",
       "      <td>27000.000000</td>\n",
       "      <td>17.000000</td>\n",
       "      <td>1774.000000</td>\n",
       "      <td>148.000000</td>\n",
       "      <td>5.000000</td>\n",
       "      <td>1.300000e+06</td>\n",
       "    </tr>\n",
       "    <tr>\n",
       "      <th>75%</th>\n",
       "      <td>75.250000</td>\n",
       "      <td>2019.00000</td>\n",
       "      <td>32000.000000</td>\n",
       "      <td>19.000000</td>\n",
       "      <td>2143.000000</td>\n",
       "      <td>187.000000</td>\n",
       "      <td>5.000000</td>\n",
       "      <td>2.500000e+06</td>\n",
       "    </tr>\n",
       "    <tr>\n",
       "      <th>99%</th>\n",
       "      <td>99.010000</td>\n",
       "      <td>2021.00000</td>\n",
       "      <td>50100.000000</td>\n",
       "      <td>25.000000</td>\n",
       "      <td>3017.530000</td>\n",
       "      <td>396.000000</td>\n",
       "      <td>7.000000</td>\n",
       "      <td>4.000000e+06</td>\n",
       "    </tr>\n",
       "    <tr>\n",
       "      <th>99.9%</th>\n",
       "      <td>99.901000</td>\n",
       "      <td>2021.00000</td>\n",
       "      <td>59010.000000</td>\n",
       "      <td>25.000000</td>\n",
       "      <td>4757.653000</td>\n",
       "      <td>396.000000</td>\n",
       "      <td>7.000000</td>\n",
       "      <td>4.000000e+06</td>\n",
       "    </tr>\n",
       "    <tr>\n",
       "      <th>max</th>\n",
       "      <td>100.000000</td>\n",
       "      <td>2021.00000</td>\n",
       "      <td>60000.000000</td>\n",
       "      <td>25.000000</td>\n",
       "      <td>4951.000000</td>\n",
       "      <td>396.000000</td>\n",
       "      <td>7.000000</td>\n",
       "      <td>4.000000e+06</td>\n",
       "    </tr>\n",
       "  </tbody>\n",
       "</table>\n",
       "</div>"
      ]
     },
     "execution_count": 404,
     "metadata": {},
     "output_type": "execute_result"
    }
   ],
   "execution_count": 404
  },
  {
   "metadata": {
    "ExecuteTime": {
     "end_time": "2025-01-12T18:42:22.191730Z",
     "start_time": "2025-01-12T18:42:22.189629Z"
    }
   },
   "cell_type": "code",
   "source": [
    "# Перевірка на пропуски\n",
    "print(df.select_dtypes(include='number').isnull().sum())"
   ],
   "outputs": [
    {
     "name": "stdout",
     "output_type": "stream",
     "text": [
      "Car_ID               0\n",
      "Year                 0\n",
      "Kilometers_Driven    0\n",
      "Mileage              0\n",
      "Engine               0\n",
      "Power                0\n",
      "Seats                0\n",
      "Price                0\n",
      "dtype: int64\n"
     ]
    }
   ],
   "execution_count": 405
  },
  {
   "metadata": {},
   "cell_type": "markdown",
   "source": "### Аналіз категоріальних змінних"
  },
  {
   "metadata": {
    "ExecuteTime": {
     "end_time": "2025-01-12T18:42:22.217752Z",
     "start_time": "2025-01-12T18:42:22.215603Z"
    }
   },
   "cell_type": "code",
   "source": "df.select_dtypes(include='object').columns",
   "outputs": [
    {
     "data": {
      "text/plain": [
       "Index(['Brand', 'Model', 'Fuel_Type', 'Transmission', 'Owner_Type'], dtype='object')"
      ]
     },
     "execution_count": 406,
     "metadata": {},
     "output_type": "execute_result"
    }
   ],
   "execution_count": 406
  },
  {
   "metadata": {
    "ExecuteTime": {
     "end_time": "2025-01-12T18:42:22.257247Z",
     "start_time": "2025-01-12T18:42:22.255269Z"
    }
   },
   "cell_type": "code",
   "source": [
    "# Перевірка кількості категоріальних змінних\n",
    "len_object_columns = len(df.select_dtypes(include='object').columns)\n",
    "print(len_object_columns)"
   ],
   "outputs": [
    {
     "name": "stdout",
     "output_type": "stream",
     "text": [
      "5\n"
     ]
    }
   ],
   "execution_count": 407
  },
  {
   "metadata": {},
   "cell_type": "markdown",
   "source": [
    "Дані містять 5 `categorical` змінних.\n",
    "Попередньо бачу, що можна перевести Transmission в бінарну зміну."
   ]
  },
  {
   "metadata": {
    "ExecuteTime": {
     "end_time": "2025-01-12T18:42:22.291596Z",
     "start_time": "2025-01-12T18:42:22.287190Z"
    }
   },
   "cell_type": "code",
   "source": [
    "columns = df.select_dtypes(include='object').columns\n",
    "\n",
    "for column in columns:\n",
    "    print(f'Column: {column}')\n",
    "    print(df[column].value_counts())\n",
    "    print(df[column].unique())\n",
    "    print(f'Unique number: {df[column].nunique()}', end='\\n\\n')"
   ],
   "outputs": [
    {
     "name": "stdout",
     "output_type": "stream",
     "text": [
      "Column: Brand\n",
      "Brand\n",
      "Ford          11\n",
      "Hyundai       11\n",
      "Tata          11\n",
      "Toyota        10\n",
      "Volkswagen    10\n",
      "Audi          10\n",
      "BMW           10\n",
      "Mercedes      10\n",
      "Honda          6\n",
      "Maruti         6\n",
      "Mahindra       5\n",
      "Name: count, dtype: int64\n",
      "['Toyota' 'Honda' 'Ford' 'Maruti' 'Hyundai' 'Tata' 'Mahindra' 'Volkswagen'\n",
      " 'Audi' 'BMW' 'Mercedes']\n",
      "Unique number: 11\n",
      "\n",
      "Column: Model\n",
      "Model\n",
      "Mustang          3\n",
      "Altroz           3\n",
      "C-Class          3\n",
      "Verna            3\n",
      "Fortuner         2\n",
      "S-Cross          2\n",
      "Vitara           2\n",
      "WR-V             2\n",
      "Ameo             2\n",
      "A3               2\n",
      "7 Series         2\n",
      "GLE              2\n",
      "Yaris            2\n",
      "Ranger           2\n",
      "Santro           2\n",
      "Tigor            2\n",
      "T-Roc            2\n",
      "BR-V             2\n",
      "Elantra          2\n",
      "Q7               2\n",
      "X5               2\n",
      "GLA              2\n",
      "Camry            2\n",
      "Venue            2\n",
      "Tiago            2\n",
      "XUV300           2\n",
      "Vento            2\n",
      "A5               2\n",
      "3 Series         2\n",
      "Innova Crysta    2\n",
      "Safari           2\n",
      "EcoSport         2\n",
      "Aspire           2\n",
      "E-Class          2\n",
      "X3               2\n",
      "A6               2\n",
      "Passat           2\n",
      "Thar             2\n",
      "Creta            1\n",
      "Swift            1\n",
      "Sonata           1\n",
      "Nexon            1\n",
      "Scorpio          1\n",
      "Polo             1\n",
      "A4               1\n",
      "X1               1\n",
      "Endeavour        1\n",
      "City             1\n",
      "Harrier          1\n",
      "Ertiga           1\n",
      "Civic            1\n",
      "Tiguan           1\n",
      "Q3               1\n",
      "5 Series         1\n",
      "GLC              1\n",
      "Innova           1\n",
      "Figo             1\n",
      "Corolla          1\n",
      "Name: count, dtype: int64\n",
      "['Corolla' 'Civic' 'Mustang' 'Swift' 'Sonata' 'Nexon' 'Scorpio' 'Polo'\n",
      " 'A4' 'X1' 'C-Class' 'Endeavour' 'Creta' 'Harrier' 'Ertiga' 'City'\n",
      " 'Tiguan' 'Q3' '5 Series' 'GLC' 'Innova' 'Figo' 'Verna' 'Altroz' 'Thar'\n",
      " 'Passat' 'A6' 'X3' 'E-Class' 'Fortuner' 'Aspire' 'Elantra' 'Safari'\n",
      " 'Vitara' 'WR-V' 'Ameo' 'A3' '7 Series' 'GLE' 'Yaris' 'Ranger' 'Santro'\n",
      " 'Tigor' 'S-Cross' 'BR-V' 'T-Roc' 'Q7' 'X5' 'GLA' 'Camry' 'Venue' 'Tiago'\n",
      " 'XUV300' 'Vento' 'A5' '3 Series' 'Innova Crysta' 'EcoSport']\n",
      "Unique number: 58\n",
      "\n",
      "Column: Fuel_Type\n",
      "Fuel_Type\n",
      "Petrol    52\n",
      "Diesel    48\n",
      "Name: count, dtype: int64\n",
      "['Petrol' 'Diesel']\n",
      "Unique number: 2\n",
      "\n",
      "Column: Transmission\n",
      "Transmission\n",
      "Automatic    57\n",
      "Manual       43\n",
      "Name: count, dtype: int64\n",
      "['Manual' 'Automatic']\n",
      "Unique number: 2\n",
      "\n",
      "Column: Owner_Type\n",
      "Owner_Type\n",
      "First     44\n",
      "Second    43\n",
      "Third     13\n",
      "Name: count, dtype: int64\n",
      "['First' 'Second' 'Third']\n",
      "Unique number: 3\n",
      "\n"
     ]
    }
   ],
   "execution_count": 408
  },
  {
   "metadata": {
    "ExecuteTime": {
     "end_time": "2025-01-12T18:42:22.325029Z",
     "start_time": "2025-01-12T18:42:22.322741Z"
    }
   },
   "cell_type": "code",
   "source": "df['Transmission'].unique(), df['Transmission'].nunique()",
   "outputs": [
    {
     "data": {
      "text/plain": [
       "(array(['Manual', 'Automatic'], dtype=object), 2)"
      ]
     },
     "execution_count": 409,
     "metadata": {},
     "output_type": "execute_result"
    }
   ],
   "execution_count": 409
  },
  {
   "metadata": {
    "ExecuteTime": {
     "end_time": "2025-01-12T18:42:22.356397Z",
     "start_time": "2025-01-12T18:42:22.354131Z"
    }
   },
   "cell_type": "code",
   "source": "df['Owner_Type'].unique(), df['Owner_Type'].nunique()",
   "outputs": [
    {
     "data": {
      "text/plain": [
       "(array(['First', 'Second', 'Third'], dtype=object), 3)"
      ]
     },
     "execution_count": 410,
     "metadata": {},
     "output_type": "execute_result"
    }
   ],
   "execution_count": 410
  },
  {
   "metadata": {},
   "cell_type": "markdown",
   "source": "### Аналіз числових змінних"
  },
  {
   "metadata": {
    "ExecuteTime": {
     "end_time": "2025-01-12T18:42:22.386486Z",
     "start_time": "2025-01-12T18:42:22.384799Z"
    }
   },
   "cell_type": "code",
   "source": "number_df = df.select_dtypes(include='number')",
   "outputs": [],
   "execution_count": 411
  },
  {
   "metadata": {
    "ExecuteTime": {
     "end_time": "2025-01-12T18:42:22.443881Z",
     "start_time": "2025-01-12T18:42:22.441505Z"
    }
   },
   "cell_type": "code",
   "source": "number_df.columns",
   "outputs": [
    {
     "data": {
      "text/plain": [
       "Index(['Car_ID', 'Year', 'Kilometers_Driven', 'Mileage', 'Engine', 'Power',\n",
       "       'Seats', 'Price'],\n",
       "      dtype='object')"
      ]
     },
     "execution_count": 412,
     "metadata": {},
     "output_type": "execute_result"
    }
   ],
   "execution_count": 412
  },
  {
   "metadata": {
    "ExecuteTime": {
     "end_time": "2025-01-12T18:42:22.463161Z",
     "start_time": "2025-01-12T18:42:22.461500Z"
    }
   },
   "cell_type": "code",
   "source": [
    "# Перевірка кількості числових змінних\n",
    "len_int64_columns = len(number_df.columns)\n",
    "print(len_int64_columns)"
   ],
   "outputs": [
    {
     "name": "stdout",
     "output_type": "stream",
     "text": [
      "8\n"
     ]
    }
   ],
   "execution_count": 413
  },
  {
   "metadata": {},
   "cell_type": "markdown",
   "source": "Дані містять 8 `numerical` змінних"
  },
  {
   "metadata": {
    "ExecuteTime": {
     "end_time": "2025-01-12T18:42:22.495732Z",
     "start_time": "2025-01-12T18:42:22.492022Z"
    }
   },
   "cell_type": "code",
   "source": "number_df.head(n=10)",
   "outputs": [
    {
     "data": {
      "text/plain": [
       "   Car_ID  Year  Kilometers_Driven  Mileage  Engine  Power  Seats    Price\n",
       "0       1  2018              50000       15    1498    108      5   800000\n",
       "1       2  2019              40000       17    1597    140      5  1000000\n",
       "2       3  2017              20000       10    4951    395      4  2500000\n",
       "3       4  2020              30000       23    1248     74      5   600000\n",
       "4       5  2016              60000       18    1999    194      5   850000\n",
       "5       6  2019              35000       17    1198    108      5   750000\n",
       "6       7  2018              45000       15    2179    140      7   900000\n",
       "7       8  2020              25000       18     999     76      5   650000\n",
       "8       9  2017              30000       18    1968    187      5  2200000\n",
       "9      10  2019              20000       20    1995    190      5  2700000"
      ],
      "text/html": [
       "<div>\n",
       "<style scoped>\n",
       "    .dataframe tbody tr th:only-of-type {\n",
       "        vertical-align: middle;\n",
       "    }\n",
       "\n",
       "    .dataframe tbody tr th {\n",
       "        vertical-align: top;\n",
       "    }\n",
       "\n",
       "    .dataframe thead th {\n",
       "        text-align: right;\n",
       "    }\n",
       "</style>\n",
       "<table border=\"1\" class=\"dataframe\">\n",
       "  <thead>\n",
       "    <tr style=\"text-align: right;\">\n",
       "      <th></th>\n",
       "      <th>Car_ID</th>\n",
       "      <th>Year</th>\n",
       "      <th>Kilometers_Driven</th>\n",
       "      <th>Mileage</th>\n",
       "      <th>Engine</th>\n",
       "      <th>Power</th>\n",
       "      <th>Seats</th>\n",
       "      <th>Price</th>\n",
       "    </tr>\n",
       "  </thead>\n",
       "  <tbody>\n",
       "    <tr>\n",
       "      <th>0</th>\n",
       "      <td>1</td>\n",
       "      <td>2018</td>\n",
       "      <td>50000</td>\n",
       "      <td>15</td>\n",
       "      <td>1498</td>\n",
       "      <td>108</td>\n",
       "      <td>5</td>\n",
       "      <td>800000</td>\n",
       "    </tr>\n",
       "    <tr>\n",
       "      <th>1</th>\n",
       "      <td>2</td>\n",
       "      <td>2019</td>\n",
       "      <td>40000</td>\n",
       "      <td>17</td>\n",
       "      <td>1597</td>\n",
       "      <td>140</td>\n",
       "      <td>5</td>\n",
       "      <td>1000000</td>\n",
       "    </tr>\n",
       "    <tr>\n",
       "      <th>2</th>\n",
       "      <td>3</td>\n",
       "      <td>2017</td>\n",
       "      <td>20000</td>\n",
       "      <td>10</td>\n",
       "      <td>4951</td>\n",
       "      <td>395</td>\n",
       "      <td>4</td>\n",
       "      <td>2500000</td>\n",
       "    </tr>\n",
       "    <tr>\n",
       "      <th>3</th>\n",
       "      <td>4</td>\n",
       "      <td>2020</td>\n",
       "      <td>30000</td>\n",
       "      <td>23</td>\n",
       "      <td>1248</td>\n",
       "      <td>74</td>\n",
       "      <td>5</td>\n",
       "      <td>600000</td>\n",
       "    </tr>\n",
       "    <tr>\n",
       "      <th>4</th>\n",
       "      <td>5</td>\n",
       "      <td>2016</td>\n",
       "      <td>60000</td>\n",
       "      <td>18</td>\n",
       "      <td>1999</td>\n",
       "      <td>194</td>\n",
       "      <td>5</td>\n",
       "      <td>850000</td>\n",
       "    </tr>\n",
       "    <tr>\n",
       "      <th>5</th>\n",
       "      <td>6</td>\n",
       "      <td>2019</td>\n",
       "      <td>35000</td>\n",
       "      <td>17</td>\n",
       "      <td>1198</td>\n",
       "      <td>108</td>\n",
       "      <td>5</td>\n",
       "      <td>750000</td>\n",
       "    </tr>\n",
       "    <tr>\n",
       "      <th>6</th>\n",
       "      <td>7</td>\n",
       "      <td>2018</td>\n",
       "      <td>45000</td>\n",
       "      <td>15</td>\n",
       "      <td>2179</td>\n",
       "      <td>140</td>\n",
       "      <td>7</td>\n",
       "      <td>900000</td>\n",
       "    </tr>\n",
       "    <tr>\n",
       "      <th>7</th>\n",
       "      <td>8</td>\n",
       "      <td>2020</td>\n",
       "      <td>25000</td>\n",
       "      <td>18</td>\n",
       "      <td>999</td>\n",
       "      <td>76</td>\n",
       "      <td>5</td>\n",
       "      <td>650000</td>\n",
       "    </tr>\n",
       "    <tr>\n",
       "      <th>8</th>\n",
       "      <td>9</td>\n",
       "      <td>2017</td>\n",
       "      <td>30000</td>\n",
       "      <td>18</td>\n",
       "      <td>1968</td>\n",
       "      <td>187</td>\n",
       "      <td>5</td>\n",
       "      <td>2200000</td>\n",
       "    </tr>\n",
       "    <tr>\n",
       "      <th>9</th>\n",
       "      <td>10</td>\n",
       "      <td>2019</td>\n",
       "      <td>20000</td>\n",
       "      <td>20</td>\n",
       "      <td>1995</td>\n",
       "      <td>190</td>\n",
       "      <td>5</td>\n",
       "      <td>2700000</td>\n",
       "    </tr>\n",
       "  </tbody>\n",
       "</table>\n",
       "</div>"
      ]
     },
     "execution_count": 414,
     "metadata": {},
     "output_type": "execute_result"
    }
   ],
   "execution_count": 414
  },
  {
   "metadata": {},
   "cell_type": "markdown",
   "source": "### Робота з некоректними типами даних"
  },
  {
   "metadata": {},
   "cell_type": "markdown",
   "source": "Перевірка, чи немає у нас стовпця з неправильним типом даних"
  },
  {
   "metadata": {
    "ExecuteTime": {
     "end_time": "2025-01-12T18:42:22.541059Z",
     "start_time": "2025-01-12T18:42:22.538603Z"
    }
   },
   "cell_type": "code",
   "source": "df.dtypes",
   "outputs": [
    {
     "data": {
      "text/plain": [
       "Car_ID                int64\n",
       "Brand                object\n",
       "Model                object\n",
       "Year                  int64\n",
       "Kilometers_Driven     int64\n",
       "Fuel_Type            object\n",
       "Transmission         object\n",
       "Owner_Type           object\n",
       "Mileage               int64\n",
       "Engine                int64\n",
       "Power                 int64\n",
       "Seats                 int64\n",
       "Price                 int64\n",
       "dtype: object"
      ]
     },
     "execution_count": 415,
     "metadata": {},
     "output_type": "execute_result"
    }
   ],
   "execution_count": 415
  },
  {
   "metadata": {},
   "cell_type": "markdown",
   "source": [
    "Дивлячись на дані та відповідні їм типи даних, можна змінити тип стовпчика `Car_ID`.\n",
    "\n",
    "*NOTE: Перетворення Car_ID з int64 на str допомагає позбутися випадкових математичних операцій, оптимізує використання цього поля як категоріального або унікального ідентифікатора, а також зберігає пам’ять у деяких сценаріях.*"
   ]
  },
  {
   "metadata": {
    "ExecuteTime": {
     "end_time": "2025-01-12T18:42:22.576057Z",
     "start_time": "2025-01-12T18:42:22.574392Z"
    }
   },
   "cell_type": "code",
   "source": "#df['Car_ID'] = df['Car_ID'].astype(\"str\")",
   "outputs": [],
   "execution_count": 416
  },
  {
   "metadata": {},
   "cell_type": "markdown",
   "source": "Також можна перетворити типи даних для `Fuel_Type`, `Transmission`, `Owner_Type`."
  },
  {
   "metadata": {
    "ExecuteTime": {
     "end_time": "2025-01-12T18:42:22.616906Z",
     "start_time": "2025-01-12T18:42:22.615395Z"
    }
   },
   "cell_type": "code",
   "source": [
    "#df['Is_Petrol_Fuel_Type'] = (df['Fuel_Type'] == 'Petrol').astype(int)\n",
    "\n",
    "# Перевірка результату\n",
    "#print(df[['Fuel_Type', 'Is_Petrol_Fuel_Type']].head())"
   ],
   "outputs": [],
   "execution_count": 417
  },
  {
   "metadata": {
    "ExecuteTime": {
     "end_time": "2025-01-12T18:42:22.661373Z",
     "start_time": "2025-01-12T18:42:22.659800Z"
    }
   },
   "cell_type": "code",
   "source": [
    "#df['Is_Manual_Transmission'] = (df['Transmission'] == 'Manual').astype(int)\n",
    "\n",
    "# Перевірка результату\n",
    "#print(df[['Transmission', 'Is_Manual_Transmission']].head())"
   ],
   "outputs": [],
   "execution_count": 418
  },
  {
   "metadata": {
    "ExecuteTime": {
     "end_time": "2025-01-12T18:42:22.670625Z",
     "start_time": "2025-01-12T18:42:22.668615Z"
    }
   },
   "cell_type": "code",
   "source": "df['Owner_Type'].unique()",
   "outputs": [
    {
     "data": {
      "text/plain": [
       "array(['First', 'Second', 'Third'], dtype=object)"
      ]
     },
     "execution_count": 419,
     "metadata": {},
     "output_type": "execute_result"
    }
   ],
   "execution_count": 419
  },
  {
   "metadata": {
    "ExecuteTime": {
     "end_time": "2025-01-12T18:42:22.700341Z",
     "start_time": "2025-01-12T18:42:22.698808Z"
    }
   },
   "cell_type": "code",
   "source": [
    "# Порядкове кодування для Owner_Type\n",
    "#owner_type_order = ['First', 'Second', 'Third']\n",
    "\n",
    "#df['Owner_Type_Encoded'] = pd.Categorical(df['Owner_Type'], categories=df['Owner_Type'].unique(), ordered=True).codes\n",
    "\n",
    "# Перевірка результату\n",
    "#print(df[['Owner_Type', 'Owner_Type_Encoded']].head())"
   ],
   "outputs": [],
   "execution_count": 420
  },
  {
   "metadata": {},
   "cell_type": "markdown",
   "source": [
    "### Висновок EDA\n",
    "*На момент огляду dataset маємо наступні дані:*\n",
    "\n",
    "Кількість числових колонок: 8\n",
    "Кількість категоріальних колонок: 5\n",
    " - Бінарних: 2\n",
    " - Мультикатегоріальних: 3\n",
    " - Колонки в яких можливо встановити відношення: 1, а саме ->['Owner_Type']. (наприклад, First < Second < Third).\n",
    "\n",
    "Числові колонки: ['Car_ID', 'Year', 'Kilometers_Driven', 'Mileage', 'Engine', 'Power', 'Seats', 'Price']\n",
    "\n",
    "Категоріальні колонки: ['Brand', 'Model', 'Fuel_Type', 'Transmission', 'Owner_Type']\n",
    "\n",
    "Бінарні колонки: ['Fuel_Type', 'Transmission']\n",
    "\n",
    "Мультикатегоріальні колонки: ['Brand', 'Model', 'Owner_Type']\n",
    "\n"
   ]
  },
  {
   "cell_type": "markdown",
   "source": [
    "# **Завдання 3**.\n",
    "\n",
    "Розділіть дані на тренувальні і тест. Відведіть в тест 20%, поставте `random_state=12`. Ми будемо передбачати колонку `Price` - тож, вона є цільовою змінною. В результаті у Вас має бути 4 набори даних `X_train, X_test, y_train, y_test`.\n",
    "\n",
    "Надалі ми всюди тренуємо методи для кодування, масштабування та саму модель тільки на тренувальних даних X_train (та y_train для моделі), а на тестувальних лише використовуємо вже навчені методи для кодування, масштабування і модель викликаючи в них `transform()` (для методів обробки даних) або `predict()` (для моделі).\n",
    "\n",
    "І так само треба робити завжди."
   ],
   "metadata": {
    "id": "feZvNdSXO-tn"
   }
  },
  {
   "cell_type": "code",
   "source": [
    "X = df.drop('Price', axis=1)\n",
    "y = df['Price']\n",
    "\n",
    "X_train, X_test, y_train, y_test = train_test_split(X, y, test_size=0.2, random_state=12)"
   ],
   "metadata": {
    "id": "lkugT6mmfM2p",
    "ExecuteTime": {
     "end_time": "2025-01-12T18:42:22.756231Z",
     "start_time": "2025-01-12T18:42:22.753607Z"
    }
   },
   "outputs": [],
   "execution_count": 421
  },
  {
   "cell_type": "markdown",
   "source": [
    "**Завдання 4**. Кодуємо категоріальні колонки.\n",
    "\n",
    "1. Закодуйте колонки з бінарними значеннями `Fuel_Type` і `Transmission` так, аби вони були у чисельному представленні і містили лише 0 так 1. Приклад був у лекції. Значення 1 нехай буде у категорії, яка містить більше значень в колонці.\n",
    "\n",
    "2. Закодуйте колонку `Brand` з використанням `sklearn.preprocessing.OneHotEncoder` аналогічно до того, як ми робили це в лекції. Увага! Ми робимо виклик методу `Encoder.fit()` на тренувальних даних `X_train`, а на тестувальних тільки викликаємо `Encoder.transform()`. Додайте закодовані значення в набори даних `X_train`, `X_test`.\n",
    "\n",
    "3. Колонку `Owner_Type` з використанням `sklearn.preprocessing.OrdinalEncoder` я закодую для вас. Проаналізуйте, що відбувається.\n",
    "\n",
    "Колонка `Model` містять забагато значень для кодування в тому вигляді, як вона є зараз, з огляду на невелику кількість даних. Якщо ви бачите, як можна згрупувати значення в цій колонці скоротивши кількість унікальних значень до 3-5, то можете виконати ще цю трансформацію, використати цю колонку в моделі і отримати додаткову практику і бал, якщо все буде зроблено правильно. А якщо неправильно - то фідбек на Вашу роботу :)"
   ],
   "metadata": {
    "id": "EvzXSbIxKBwR"
   }
  },
  {
   "metadata": {
    "ExecuteTime": {
     "end_time": "2025-01-12T18:42:22.810677Z",
     "start_time": "2025-01-12T18:42:22.761652Z"
    }
   },
   "cell_type": "code",
   "source": "sns.countplot(data=X_train, x='Fuel_Type');",
   "outputs": [
    {
     "data": {
      "text/plain": [
       "<Figure size 640x480 with 1 Axes>"
      ],
      "image/png": "[encoded data removed]"
     },
     "metadata": {},
     "output_type": "display_data"
    }
   ],
   "execution_count": 422
  },
  {
   "metadata": {
    "ExecuteTime": {
     "end_time": "2025-01-12T18:42:22.838895Z",
     "start_time": "2025-01-12T18:42:22.836597Z"
    }
   },
   "cell_type": "code",
   "source": [
    "fuel_codes = {'Petrol': 1, 'Diesel': 0}\n",
    "X_train['Fuel_Code'] = X_train['Fuel_Type'].map(fuel_codes)\n",
    "X_test['Fuel_Code'] = X_test['Fuel_Type'].map(fuel_codes)"
   ],
   "outputs": [],
   "execution_count": 423
  },
  {
   "metadata": {
    "ExecuteTime": {
     "end_time": "2025-01-12T18:42:22.912664Z",
     "start_time": "2025-01-12T18:42:22.865651Z"
    }
   },
   "cell_type": "code",
   "source": "sns.countplot(data=X_train, x='Transmission');",
   "outputs": [
    {
     "data": {
      "text/plain": [
       "<Figure size 640x480 with 1 Axes>"
      ],
      "image/png": "[encoded data removed]"
     },
     "metadata": {},
     "output_type": "display_data"
    }
   ],
   "execution_count": 424
  },
  {
   "metadata": {
    "ExecuteTime": {
     "end_time": "2025-01-12T18:42:22.941887Z",
     "start_time": "2025-01-12T18:42:22.939548Z"
    }
   },
   "cell_type": "code",
   "source": [
    "transmission_codes = {'Automatic' : 1, 'Manual' : 0}\n",
    "X_train['Transmission_Code'] = X_train['Transmission'].map(transmission_codes)\n",
    "X_test['Transmission_Code'] = X_test['Transmission'].map(transmission_codes)"
   ],
   "outputs": [],
   "execution_count": 425
  },
  {
   "cell_type": "code",
   "source": [
    "enc = preprocessing.OneHotEncoder()\n",
    "enc.fit(X_train[['Brand']])\n",
    "enc.categories_"
   ],
   "metadata": {
    "id": "oKrg78cYfzBh",
    "ExecuteTime": {
     "end_time": "2025-01-12T18:42:22.995791Z",
     "start_time": "2025-01-12T18:42:22.992952Z"
    }
   },
   "outputs": [
    {
     "data": {
      "text/plain": [
       "[array(['Audi', 'BMW', 'Ford', 'Honda', 'Hyundai', 'Mahindra', 'Maruti',\n",
       "        'Mercedes', 'Tata', 'Toyota', 'Volkswagen'], dtype=object)]"
      ]
     },
     "execution_count": 426,
     "metadata": {},
     "output_type": "execute_result"
    }
   ],
   "execution_count": 426
  },
  {
   "cell_type": "code",
   "source": [
    "X_train_encoded = enc.transform(X_train[['Brand']]).toarray()\n",
    "X_test_encoded = enc.transform(X_test[['Brand']]).toarray()"
   ],
   "metadata": {
    "id": "tU3uA6kNOkzb",
    "ExecuteTime": {
     "end_time": "2025-01-12T18:42:23.012638Z",
     "start_time": "2025-01-12T18:42:23.009944Z"
    }
   },
   "outputs": [],
   "execution_count": 427
  },
  {
   "metadata": {
    "ExecuteTime": {
     "end_time": "2025-01-12T18:42:23.065102Z",
     "start_time": "2025-01-12T18:42:23.062461Z"
    }
   },
   "cell_type": "code",
   "source": [
    "# Отримуємо назви колонок після One-Hot Encoding\n",
    "brand_columns = enc.get_feature_names_out(['Brand'])\n",
    "\n",
    "# Створюємо DataFrame для One-Hot закодованих значень\n",
    "X_train_encoded_df = pd.DataFrame(X_train_encoded, columns=brand_columns, index=X_train.index)\n",
    "X_test_encoded_df = pd.DataFrame(X_test_encoded, columns=brand_columns, index=X_test.index)\n",
    "\n",
    "# Додаємо закодовані дані до X_train і X_test\n",
    "X_train = pd.concat([X_train, X_train_encoded_df], axis=1)\n",
    "X_test = pd.concat([X_test, X_test_encoded_df], axis=1)"
   ],
   "outputs": [],
   "execution_count": 428
  },
  {
   "metadata": {
    "ExecuteTime": {
     "end_time": "2025-01-12T18:42:23.099372Z",
     "start_time": "2025-01-12T18:42:23.095981Z"
    }
   },
   "cell_type": "code",
   "source": [
    "ord_enc = preprocessing.OrdinalEncoder(categories=[['First', 'Second', 'Third']])\n",
    "ord_enc.fit(X_train[['Owner_Type']])\n",
    "\n",
    "X_train['Owner_Type_Codes'] = ord_enc.transform(X_train[['Owner_Type']])\n",
    "X_test['Owner_Type_Codes'] = ord_enc.transform(X_test[['Owner_Type']])"
   ],
   "outputs": [],
   "execution_count": 429
  },
  {
   "cell_type": "markdown",
   "source": [
    "Очікуваний результат після трансформацій:"
   ],
   "metadata": {
    "id": "P-woc2oUSZu4"
   }
  },
  {
   "cell_type": "code",
   "source": [
    "pd.set_option('display.max_columns', 100)\n",
    "display(X_train.head()), display(X_test.head())"
   ],
   "metadata": {
    "colab": {
     "base_uri": "https://localhost:8080/",
     "height": 432
    },
    "id": "brxPGShISEhz",
    "outputId": "ae807da8-6694-4951-8c8c-69d1e96733d0",
    "ExecuteTime": {
     "end_time": "2025-01-12T18:42:23.144281Z",
     "start_time": "2025-01-12T18:42:23.131779Z"
    }
   },
   "outputs": [
    {
     "data": {
      "text/plain": [
       "    Car_ID       Brand  Model  Year  Kilometers_Driven Fuel_Type Transmission  \\\n",
       "83      84  Volkswagen  T-Roc  2019              22000    Petrol    Automatic   \n",
       "55      56        Audi     A5  2018              28000    Diesel    Automatic   \n",
       "26      27        Audi     A6  2018              28000    Petrol    Automatic   \n",
       "54      55  Volkswagen  Vento  2017              32000    Petrol       Manual   \n",
       "19      20    Mercedes    GLC  2017              26000    Petrol    Automatic   \n",
       "\n",
       "   Owner_Type  Mileage  Engine  Power  Seats  Fuel_Code  Transmission_Code  \\\n",
       "83     Second       18    1498    148      5          1                  1   \n",
       "55      First       17    1968    187      5          0                  1   \n",
       "26      First       15    1984    241      5          1                  1   \n",
       "54     Second       18    1598    103      5          1                  0   \n",
       "19     Second       12    1991    241      5          1                  1   \n",
       "\n",
       "    Brand_Audi  Brand_BMW  Brand_Ford  Brand_Honda  Brand_Hyundai  \\\n",
       "83         0.0        0.0         0.0          0.0            0.0   \n",
       "55         1.0        0.0         0.0          0.0            0.0   \n",
       "26         1.0        0.0         0.0          0.0            0.0   \n",
       "54         0.0        0.0         0.0          0.0            0.0   \n",
       "19         0.0        0.0         0.0          0.0            0.0   \n",
       "\n",
       "    Brand_Mahindra  Brand_Maruti  Brand_Mercedes  Brand_Tata  Brand_Toyota  \\\n",
       "83             0.0           0.0             0.0         0.0           0.0   \n",
       "55             0.0           0.0             0.0         0.0           0.0   \n",
       "26             0.0           0.0             0.0         0.0           0.0   \n",
       "54             0.0           0.0             0.0         0.0           0.0   \n",
       "19             0.0           0.0             1.0         0.0           0.0   \n",
       "\n",
       "    Brand_Volkswagen  Owner_Type_Codes  \n",
       "83               1.0               1.0  \n",
       "55               0.0               0.0  \n",
       "26               0.0               0.0  \n",
       "54               1.0               1.0  \n",
       "19               0.0               1.0  "
      ],
      "text/html": [
       "<div>\n",
       "<style scoped>\n",
       "    .dataframe tbody tr th:only-of-type {\n",
       "        vertical-align: middle;\n",
       "    }\n",
       "\n",
       "    .dataframe tbody tr th {\n",
       "        vertical-align: top;\n",
       "    }\n",
       "\n",
       "    .dataframe thead th {\n",
       "        text-align: right;\n",
       "    }\n",
       "</style>\n",
       "<table border=\"1\" class=\"dataframe\">\n",
       "  <thead>\n",
       "    <tr style=\"text-align: right;\">\n",
       "      <th></th>\n",
       "      <th>Car_ID</th>\n",
       "      <th>Brand</th>\n",
       "      <th>Model</th>\n",
       "      <th>Year</th>\n",
       "      <th>Kilometers_Driven</th>\n",
       "      <th>Fuel_Type</th>\n",
       "      <th>Transmission</th>\n",
       "      <th>Owner_Type</th>\n",
       "      <th>Mileage</th>\n",
       "      <th>Engine</th>\n",
       "      <th>Power</th>\n",
       "      <th>Seats</th>\n",
       "      <th>Fuel_Code</th>\n",
       "      <th>Transmission_Code</th>\n",
       "      <th>Brand_Audi</th>\n",
       "      <th>Brand_BMW</th>\n",
       "      <th>Brand_Ford</th>\n",
       "      <th>Brand_Honda</th>\n",
       "      <th>Brand_Hyundai</th>\n",
       "      <th>Brand_Mahindra</th>\n",
       "      <th>Brand_Maruti</th>\n",
       "      <th>Brand_Mercedes</th>\n",
       "      <th>Brand_Tata</th>\n",
       "      <th>Brand_Toyota</th>\n",
       "      <th>Brand_Volkswagen</th>\n",
       "      <th>Owner_Type_Codes</th>\n",
       "    </tr>\n",
       "  </thead>\n",
       "  <tbody>\n",
       "    <tr>\n",
       "      <th>83</th>\n",
       "      <td>84</td>\n",
       "      <td>Volkswagen</td>\n",
       "      <td>T-Roc</td>\n",
       "      <td>2019</td>\n",
       "      <td>22000</td>\n",
       "      <td>Petrol</td>\n",
       "      <td>Automatic</td>\n",
       "      <td>Second</td>\n",
       "      <td>18</td>\n",
       "      <td>1498</td>\n",
       "      <td>148</td>\n",
       "      <td>5</td>\n",
       "      <td>1</td>\n",
       "      <td>1</td>\n",
       "      <td>0.0</td>\n",
       "      <td>0.0</td>\n",
       "      <td>0.0</td>\n",
       "      <td>0.0</td>\n",
       "      <td>0.0</td>\n",
       "      <td>0.0</td>\n",
       "      <td>0.0</td>\n",
       "      <td>0.0</td>\n",
       "      <td>0.0</td>\n",
       "      <td>0.0</td>\n",
       "      <td>1.0</td>\n",
       "      <td>1.0</td>\n",
       "    </tr>\n",
       "    <tr>\n",
       "      <th>55</th>\n",
       "      <td>56</td>\n",
       "      <td>Audi</td>\n",
       "      <td>A5</td>\n",
       "      <td>2018</td>\n",
       "      <td>28000</td>\n",
       "      <td>Diesel</td>\n",
       "      <td>Automatic</td>\n",
       "      <td>First</td>\n",
       "      <td>17</td>\n",
       "      <td>1968</td>\n",
       "      <td>187</td>\n",
       "      <td>5</td>\n",
       "      <td>0</td>\n",
       "      <td>1</td>\n",
       "      <td>1.0</td>\n",
       "      <td>0.0</td>\n",
       "      <td>0.0</td>\n",
       "      <td>0.0</td>\n",
       "      <td>0.0</td>\n",
       "      <td>0.0</td>\n",
       "      <td>0.0</td>\n",
       "      <td>0.0</td>\n",
       "      <td>0.0</td>\n",
       "      <td>0.0</td>\n",
       "      <td>0.0</td>\n",
       "      <td>0.0</td>\n",
       "    </tr>\n",
       "    <tr>\n",
       "      <th>26</th>\n",
       "      <td>27</td>\n",
       "      <td>Audi</td>\n",
       "      <td>A6</td>\n",
       "      <td>2018</td>\n",
       "      <td>28000</td>\n",
       "      <td>Petrol</td>\n",
       "      <td>Automatic</td>\n",
       "      <td>First</td>\n",
       "      <td>15</td>\n",
       "      <td>1984</td>\n",
       "      <td>241</td>\n",
       "      <td>5</td>\n",
       "      <td>1</td>\n",
       "      <td>1</td>\n",
       "      <td>1.0</td>\n",
       "      <td>0.0</td>\n",
       "      <td>0.0</td>\n",
       "      <td>0.0</td>\n",
       "      <td>0.0</td>\n",
       "      <td>0.0</td>\n",
       "      <td>0.0</td>\n",
       "      <td>0.0</td>\n",
       "      <td>0.0</td>\n",
       "      <td>0.0</td>\n",
       "      <td>0.0</td>\n",
       "      <td>0.0</td>\n",
       "    </tr>\n",
       "    <tr>\n",
       "      <th>54</th>\n",
       "      <td>55</td>\n",
       "      <td>Volkswagen</td>\n",
       "      <td>Vento</td>\n",
       "      <td>2017</td>\n",
       "      <td>32000</td>\n",
       "      <td>Petrol</td>\n",
       "      <td>Manual</td>\n",
       "      <td>Second</td>\n",
       "      <td>18</td>\n",
       "      <td>1598</td>\n",
       "      <td>103</td>\n",
       "      <td>5</td>\n",
       "      <td>1</td>\n",
       "      <td>0</td>\n",
       "      <td>0.0</td>\n",
       "      <td>0.0</td>\n",
       "      <td>0.0</td>\n",
       "      <td>0.0</td>\n",
       "      <td>0.0</td>\n",
       "      <td>0.0</td>\n",
       "      <td>0.0</td>\n",
       "      <td>0.0</td>\n",
       "      <td>0.0</td>\n",
       "      <td>0.0</td>\n",
       "      <td>1.0</td>\n",
       "      <td>1.0</td>\n",
       "    </tr>\n",
       "    <tr>\n",
       "      <th>19</th>\n",
       "      <td>20</td>\n",
       "      <td>Mercedes</td>\n",
       "      <td>GLC</td>\n",
       "      <td>2017</td>\n",
       "      <td>26000</td>\n",
       "      <td>Petrol</td>\n",
       "      <td>Automatic</td>\n",
       "      <td>Second</td>\n",
       "      <td>12</td>\n",
       "      <td>1991</td>\n",
       "      <td>241</td>\n",
       "      <td>5</td>\n",
       "      <td>1</td>\n",
       "      <td>1</td>\n",
       "      <td>0.0</td>\n",
       "      <td>0.0</td>\n",
       "      <td>0.0</td>\n",
       "      <td>0.0</td>\n",
       "      <td>0.0</td>\n",
       "      <td>0.0</td>\n",
       "      <td>0.0</td>\n",
       "      <td>1.0</td>\n",
       "      <td>0.0</td>\n",
       "      <td>0.0</td>\n",
       "      <td>0.0</td>\n",
       "      <td>1.0</td>\n",
       "    </tr>\n",
       "  </tbody>\n",
       "</table>\n",
       "</div>"
      ]
     },
     "metadata": {},
     "output_type": "display_data"
    },
    {
     "data": {
      "text/plain": [
       "    Car_ID       Brand   Model  Year  Kilometers_Driven Fuel_Type  \\\n",
       "17      18        Audi      Q3  2016              38000    Petrol   \n",
       "41      42     Hyundai  Santro  2019              26000    Petrol   \n",
       "92      93  Volkswagen   Vento  2017              32000    Petrol   \n",
       "14      15      Maruti  Ertiga  2020              18000    Petrol   \n",
       "68      69        Ford  Aspire  2019              26000    Petrol   \n",
       "\n",
       "   Transmission Owner_Type  Mileage  Engine  Power  Seats  Fuel_Code  \\\n",
       "17    Automatic     Second       15    1395    148      5          1   \n",
       "41       Manual      Third       20    1086     68      5          1   \n",
       "92       Manual     Second       18    1598    103      5          1   \n",
       "14       Manual      First       19    1462    103      7          1   \n",
       "68       Manual      Third       20    1194     94      5          1   \n",
       "\n",
       "    Transmission_Code  Brand_Audi  Brand_BMW  Brand_Ford  Brand_Honda  \\\n",
       "17                  1         1.0        0.0         0.0          0.0   \n",
       "41                  0         0.0        0.0         0.0          0.0   \n",
       "92                  0         0.0        0.0         0.0          0.0   \n",
       "14                  0         0.0        0.0         0.0          0.0   \n",
       "68                  0         0.0        0.0         1.0          0.0   \n",
       "\n",
       "    Brand_Hyundai  Brand_Mahindra  Brand_Maruti  Brand_Mercedes  Brand_Tata  \\\n",
       "17            0.0             0.0           0.0             0.0         0.0   \n",
       "41            1.0             0.0           0.0             0.0         0.0   \n",
       "92            0.0             0.0           0.0             0.0         0.0   \n",
       "14            0.0             0.0           1.0             0.0         0.0   \n",
       "68            0.0             0.0           0.0             0.0         0.0   \n",
       "\n",
       "    Brand_Toyota  Brand_Volkswagen  Owner_Type_Codes  \n",
       "17           0.0               0.0               1.0  \n",
       "41           0.0               0.0               2.0  \n",
       "92           0.0               1.0               1.0  \n",
       "14           0.0               0.0               0.0  \n",
       "68           0.0               0.0               2.0  "
      ],
      "text/html": [
       "<div>\n",
       "<style scoped>\n",
       "    .dataframe tbody tr th:only-of-type {\n",
       "        vertical-align: middle;\n",
       "    }\n",
       "\n",
       "    .dataframe tbody tr th {\n",
       "        vertical-align: top;\n",
       "    }\n",
       "\n",
       "    .dataframe thead th {\n",
       "        text-align: right;\n",
       "    }\n",
       "</style>\n",
       "<table border=\"1\" class=\"dataframe\">\n",
       "  <thead>\n",
       "    <tr style=\"text-align: right;\">\n",
       "      <th></th>\n",
       "      <th>Car_ID</th>\n",
       "      <th>Brand</th>\n",
       "      <th>Model</th>\n",
       "      <th>Year</th>\n",
       "      <th>Kilometers_Driven</th>\n",
       "      <th>Fuel_Type</th>\n",
       "      <th>Transmission</th>\n",
       "      <th>Owner_Type</th>\n",
       "      <th>Mileage</th>\n",
       "      <th>Engine</th>\n",
       "      <th>Power</th>\n",
       "      <th>Seats</th>\n",
       "      <th>Fuel_Code</th>\n",
       "      <th>Transmission_Code</th>\n",
       "      <th>Brand_Audi</th>\n",
       "      <th>Brand_BMW</th>\n",
       "      <th>Brand_Ford</th>\n",
       "      <th>Brand_Honda</th>\n",
       "      <th>Brand_Hyundai</th>\n",
       "      <th>Brand_Mahindra</th>\n",
       "      <th>Brand_Maruti</th>\n",
       "      <th>Brand_Mercedes</th>\n",
       "      <th>Brand_Tata</th>\n",
       "      <th>Brand_Toyota</th>\n",
       "      <th>Brand_Volkswagen</th>\n",
       "      <th>Owner_Type_Codes</th>\n",
       "    </tr>\n",
       "  </thead>\n",
       "  <tbody>\n",
       "    <tr>\n",
       "      <th>17</th>\n",
       "      <td>18</td>\n",
       "      <td>Audi</td>\n",
       "      <td>Q3</td>\n",
       "      <td>2016</td>\n",
       "      <td>38000</td>\n",
       "      <td>Petrol</td>\n",
       "      <td>Automatic</td>\n",
       "      <td>Second</td>\n",
       "      <td>15</td>\n",
       "      <td>1395</td>\n",
       "      <td>148</td>\n",
       "      <td>5</td>\n",
       "      <td>1</td>\n",
       "      <td>1</td>\n",
       "      <td>1.0</td>\n",
       "      <td>0.0</td>\n",
       "      <td>0.0</td>\n",
       "      <td>0.0</td>\n",
       "      <td>0.0</td>\n",
       "      <td>0.0</td>\n",
       "      <td>0.0</td>\n",
       "      <td>0.0</td>\n",
       "      <td>0.0</td>\n",
       "      <td>0.0</td>\n",
       "      <td>0.0</td>\n",
       "      <td>1.0</td>\n",
       "    </tr>\n",
       "    <tr>\n",
       "      <th>41</th>\n",
       "      <td>42</td>\n",
       "      <td>Hyundai</td>\n",
       "      <td>Santro</td>\n",
       "      <td>2019</td>\n",
       "      <td>26000</td>\n",
       "      <td>Petrol</td>\n",
       "      <td>Manual</td>\n",
       "      <td>Third</td>\n",
       "      <td>20</td>\n",
       "      <td>1086</td>\n",
       "      <td>68</td>\n",
       "      <td>5</td>\n",
       "      <td>1</td>\n",
       "      <td>0</td>\n",
       "      <td>0.0</td>\n",
       "      <td>0.0</td>\n",
       "      <td>0.0</td>\n",
       "      <td>0.0</td>\n",
       "      <td>1.0</td>\n",
       "      <td>0.0</td>\n",
       "      <td>0.0</td>\n",
       "      <td>0.0</td>\n",
       "      <td>0.0</td>\n",
       "      <td>0.0</td>\n",
       "      <td>0.0</td>\n",
       "      <td>2.0</td>\n",
       "    </tr>\n",
       "    <tr>\n",
       "      <th>92</th>\n",
       "      <td>93</td>\n",
       "      <td>Volkswagen</td>\n",
       "      <td>Vento</td>\n",
       "      <td>2017</td>\n",
       "      <td>32000</td>\n",
       "      <td>Petrol</td>\n",
       "      <td>Manual</td>\n",
       "      <td>Second</td>\n",
       "      <td>18</td>\n",
       "      <td>1598</td>\n",
       "      <td>103</td>\n",
       "      <td>5</td>\n",
       "      <td>1</td>\n",
       "      <td>0</td>\n",
       "      <td>0.0</td>\n",
       "      <td>0.0</td>\n",
       "      <td>0.0</td>\n",
       "      <td>0.0</td>\n",
       "      <td>0.0</td>\n",
       "      <td>0.0</td>\n",
       "      <td>0.0</td>\n",
       "      <td>0.0</td>\n",
       "      <td>0.0</td>\n",
       "      <td>0.0</td>\n",
       "      <td>1.0</td>\n",
       "      <td>1.0</td>\n",
       "    </tr>\n",
       "    <tr>\n",
       "      <th>14</th>\n",
       "      <td>15</td>\n",
       "      <td>Maruti</td>\n",
       "      <td>Ertiga</td>\n",
       "      <td>2020</td>\n",
       "      <td>18000</td>\n",
       "      <td>Petrol</td>\n",
       "      <td>Manual</td>\n",
       "      <td>First</td>\n",
       "      <td>19</td>\n",
       "      <td>1462</td>\n",
       "      <td>103</td>\n",
       "      <td>7</td>\n",
       "      <td>1</td>\n",
       "      <td>0</td>\n",
       "      <td>0.0</td>\n",
       "      <td>0.0</td>\n",
       "      <td>0.0</td>\n",
       "      <td>0.0</td>\n",
       "      <td>0.0</td>\n",
       "      <td>0.0</td>\n",
       "      <td>1.0</td>\n",
       "      <td>0.0</td>\n",
       "      <td>0.0</td>\n",
       "      <td>0.0</td>\n",
       "      <td>0.0</td>\n",
       "      <td>0.0</td>\n",
       "    </tr>\n",
       "    <tr>\n",
       "      <th>68</th>\n",
       "      <td>69</td>\n",
       "      <td>Ford</td>\n",
       "      <td>Aspire</td>\n",
       "      <td>2019</td>\n",
       "      <td>26000</td>\n",
       "      <td>Petrol</td>\n",
       "      <td>Manual</td>\n",
       "      <td>Third</td>\n",
       "      <td>20</td>\n",
       "      <td>1194</td>\n",
       "      <td>94</td>\n",
       "      <td>5</td>\n",
       "      <td>1</td>\n",
       "      <td>0</td>\n",
       "      <td>0.0</td>\n",
       "      <td>0.0</td>\n",
       "      <td>1.0</td>\n",
       "      <td>0.0</td>\n",
       "      <td>0.0</td>\n",
       "      <td>0.0</td>\n",
       "      <td>0.0</td>\n",
       "      <td>0.0</td>\n",
       "      <td>0.0</td>\n",
       "      <td>0.0</td>\n",
       "      <td>0.0</td>\n",
       "      <td>2.0</td>\n",
       "    </tr>\n",
       "  </tbody>\n",
       "</table>\n",
       "</div>"
      ]
     },
     "metadata": {},
     "output_type": "display_data"
    },
    {
     "data": {
      "text/plain": [
       "(None, None)"
      ]
     },
     "execution_count": 430,
     "metadata": {},
     "output_type": "execute_result"
    }
   ],
   "execution_count": 430
  },
  {
   "cell_type": "markdown",
   "source": [
    "**Завдання 5.** Оберіть лише числові колонки з `X_train` (можна для цього використати `pandas.select_dtypes(...)` або видалити всі НЕчислові дані, вони нам вже не потрібні), обʼєднайте ці дані з `y_train` (зручно з `pandas.concat([df1, df2], axis=1)`), побудуйте для цих даних матрицю кореляції і проаналізуйте її. Напишіть висновок, які колонки корелюють з цільовою змінною на більш ніж 0.5 за модулем (може бути як позитивна, так і негативна кореляція)."
   ],
   "metadata": {
    "id": "wHDyZp9QSnsF"
   }
  },
  {
   "cell_type": "code",
   "source": [
    "# Вибір лише числових колонок із X_train\n",
    "numeric_X_train = X_train.select_dtypes(include=['number'])\n",
    "\n",
    "# Об'єднання числових колонок і цільової змінної\n",
    "train_with_target = pd.concat([numeric_X_train, y_train], axis=1)\n",
    "\n",
    "# Побудова матриці кореляції\n",
    "correlation_matrix = train_with_target.corr()\n",
    "\n",
    "# Виведення матриці кореляції\n",
    "print(correlation_matrix)\n",
    "\n",
    "# Кореляція з цільовою змінною (Price)\n",
    "correlation_with_target = correlation_matrix['Price']\n",
    "\n",
    "# Вибір колонок із сильною кореляцією\n",
    "strong_correlation = correlation_with_target[correlation_with_target.abs() > 0.5]\n",
    "\n",
    "# Виведення результату\n",
    "print(\"Сильна кореляція з цільовою змінною (|r| > 0.5):\")\n",
    "print(strong_correlation)"
   ],
   "metadata": {
    "id": "0EIv0cVVf05Z",
    "ExecuteTime": {
     "end_time": "2025-01-12T18:42:23.157244Z",
     "start_time": "2025-01-12T18:42:23.150648Z"
    }
   },
   "outputs": [
    {
     "name": "stdout",
     "output_type": "stream",
     "text": [
      "                     Car_ID      Year  Kilometers_Driven   Mileage    Engine  \\\n",
      "Car_ID             1.000000  0.137027          -0.356614  0.100891 -0.089284   \n",
      "Year               0.137027  1.000000          -0.708525  0.278559 -0.392764   \n",
      "Kilometers_Driven -0.356614 -0.708525           1.000000 -0.126621  0.101219   \n",
      "Mileage            0.100891  0.278559          -0.126621  1.000000 -0.710516   \n",
      "Engine            -0.089284 -0.392764           0.101219 -0.710516  1.000000   \n",
      "Power             -0.006319 -0.248442          -0.060803 -0.684705  0.801638   \n",
      "Seats             -0.063793 -0.278755           0.403656 -0.178619  0.167326   \n",
      "Fuel_Code          0.090537  0.248515          -0.332351 -0.070112 -0.174455   \n",
      "Transmission_Code -0.084381 -0.200603          -0.066491 -0.399164  0.456296   \n",
      "Brand_Audi         0.089473 -0.256523           0.095879 -0.152701  0.085153   \n",
      "Brand_BMW          0.048335  0.202517          -0.247042 -0.134105  0.287119   \n",
      "Brand_Ford        -0.020240 -0.150454          -0.009761 -0.296480  0.184231   \n",
      "Brand_Honda       -0.050809 -0.037437           0.057372  0.358630 -0.154491   \n",
      "Brand_Hyundai      0.016831 -0.092099           0.154362  0.217406 -0.182213   \n",
      "Brand_Mahindra     0.006797  0.181669          -0.040344  0.029427 -0.024973   \n",
      "Brand_Maruti      -0.054463  0.285094          -0.190420  0.116389 -0.193257   \n",
      "Brand_Mercedes    -0.045431 -0.115157          -0.091731 -0.238489  0.163871   \n",
      "Brand_Tata        -0.032926  0.248715           0.030399  0.347678 -0.340051   \n",
      "Brand_Toyota       0.011350 -0.219346           0.368519 -0.201565  0.234889   \n",
      "Brand_Volkswagen   0.020129  0.018255          -0.137675  0.085114 -0.165115   \n",
      "Owner_Type_Codes   0.038923 -0.014499          -0.001772  0.026624 -0.196106   \n",
      "Price              0.025560 -0.233769          -0.083951 -0.638404  0.710561   \n",
      "\n",
      "                      Power     Seats  Fuel_Code  Transmission_Code  \\\n",
      "Car_ID            -0.006319 -0.063793   0.090537          -0.084381   \n",
      "Year              -0.248442 -0.278755   0.248515          -0.200603   \n",
      "Kilometers_Driven -0.060803  0.403656  -0.332351          -0.066491   \n",
      "Mileage           -0.684705 -0.178619  -0.070112          -0.399164   \n",
      "Engine             0.801638  0.167326  -0.174455           0.456296   \n",
      "Power              1.000000 -0.139388   0.076357           0.586910   \n",
      "Seats             -0.139388  1.000000  -0.412468          -0.070099   \n",
      "Fuel_Code          0.076357 -0.412468   1.000000          -0.005775   \n",
      "Transmission_Code  0.586910 -0.070099  -0.005775           1.000000   \n",
      "Brand_Audi         0.157050  0.123674  -0.008336           0.265132   \n",
      "Brand_BMW          0.372652 -0.108079  -0.048475           0.283188   \n",
      "Brand_Ford         0.240501 -0.161451   0.109812          -0.122816   \n",
      "Brand_Honda       -0.191810  0.200303  -0.161425          -0.218620   \n",
      "Brand_Hyundai     -0.170966 -0.086439  -0.007121           0.031659   \n",
      "Brand_Mahindra    -0.118021  0.007738  -0.235225          -0.170703   \n",
      "Brand_Maruti      -0.220984 -0.078379   0.148511          -0.112622   \n",
      "Brand_Mercedes     0.280827 -0.108079  -0.048475           0.283188   \n",
      "Brand_Tata        -0.316989 -0.012748   0.066164          -0.397609   \n",
      "Brand_Toyota      -0.040478  0.348535  -0.008336          -0.076974   \n",
      "Brand_Volkswagen  -0.148437 -0.094002   0.125010           0.155500   \n",
      "Owner_Type_Codes  -0.204309 -0.043849   0.281122           0.005886   \n",
      "Price              0.849137  0.000979  -0.110782           0.680731   \n",
      "\n",
      "                   Brand_Audi  Brand_BMW  Brand_Ford  Brand_Honda  \\\n",
      "Car_ID               0.089473   0.048335   -0.020240    -0.050809   \n",
      "Year                -0.256523   0.202517   -0.150454    -0.037437   \n",
      "Kilometers_Driven    0.095879  -0.247042   -0.009761     0.057372   \n",
      "Mileage             -0.152701  -0.134105   -0.296480     0.358630   \n",
      "Engine               0.085153   0.287119    0.184231    -0.154491   \n",
      "Power                0.157050   0.372652    0.240501    -0.191810   \n",
      "Seats                0.123674  -0.108079   -0.161451     0.200303   \n",
      "Fuel_Code           -0.008336  -0.048475    0.109812    -0.161425   \n",
      "Transmission_Code    0.265132   0.283188   -0.122816    -0.218620   \n",
      "Brand_Audi           1.000000  -0.118678   -0.118678    -0.086066   \n",
      "Brand_BMW           -0.118678   1.000000   -0.126761    -0.091928   \n",
      "Brand_Ford          -0.118678  -0.126761    1.000000    -0.091928   \n",
      "Brand_Honda         -0.086066  -0.091928   -0.091928     1.000000   \n",
      "Brand_Hyundai       -0.094916  -0.101380   -0.101380    -0.073521   \n",
      "Brand_Mahindra      -0.076472  -0.081680   -0.081680    -0.059235   \n",
      "Brand_Maruti        -0.086066  -0.091928   -0.091928    -0.066667   \n",
      "Brand_Mercedes      -0.118678  -0.126761   -0.126761    -0.091928   \n",
      "Brand_Tata          -0.125988  -0.134568   -0.134568    -0.097590   \n",
      "Brand_Toyota        -0.111111  -0.118678   -0.118678    -0.086066   \n",
      "Brand_Volkswagen    -0.103221  -0.110250   -0.110250    -0.079954   \n",
      "Owner_Type_Codes    -0.203925   0.009076    0.190586    -0.177705   \n",
      "Price                0.328858   0.477522   -0.004592    -0.209779   \n",
      "\n",
      "                   Brand_Hyundai  Brand_Mahindra  Brand_Maruti  \\\n",
      "Car_ID                  0.016831        0.006797     -0.054463   \n",
      "Year                   -0.092099        0.181669      0.285094   \n",
      "Kilometers_Driven       0.154362       -0.040344     -0.190420   \n",
      "Mileage                 0.217406        0.029427      0.116389   \n",
      "Engine                 -0.182213       -0.024973     -0.193257   \n",
      "Power                  -0.170966       -0.118021     -0.220984   \n",
      "Seats                  -0.086439        0.007738     -0.078379   \n",
      "Fuel_Code              -0.007121       -0.235225      0.148511   \n",
      "Transmission_Code       0.031659       -0.170703     -0.112622   \n",
      "Brand_Audi             -0.094916       -0.076472     -0.086066   \n",
      "Brand_BMW              -0.101380       -0.081680     -0.091928   \n",
      "Brand_Ford             -0.101380       -0.081680     -0.091928   \n",
      "Brand_Honda            -0.073521       -0.059235     -0.066667   \n",
      "Brand_Hyundai           1.000000       -0.065326     -0.073521   \n",
      "Brand_Mahindra         -0.065326        1.000000     -0.059235   \n",
      "Brand_Maruti           -0.073521       -0.059235      1.000000   \n",
      "Brand_Mercedes         -0.101380       -0.081680     -0.091928   \n",
      "Brand_Tata             -0.107624       -0.086711     -0.097590   \n",
      "Brand_Toyota           -0.094916       -0.076472     -0.086066   \n",
      "Brand_Volkswagen       -0.088175       -0.071041     -0.079954   \n",
      "Owner_Type_Codes        0.297594        0.035088      0.217195   \n",
      "Price                  -0.263022       -0.178627     -0.249737   \n",
      "\n",
      "                   Brand_Mercedes  Brand_Tata  Brand_Toyota  Brand_Volkswagen  \\\n",
      "Car_ID                  -0.045431   -0.032926      0.011350          0.020129   \n",
      "Year                    -0.115157    0.248715     -0.219346          0.018255   \n",
      "Kilometers_Driven       -0.091731    0.030399      0.368519         -0.137675   \n",
      "Mileage                 -0.238489    0.347678     -0.201565          0.085114   \n",
      "Engine                   0.163871   -0.340051      0.234889         -0.165115   \n",
      "Power                    0.280827   -0.316989     -0.040478         -0.148437   \n",
      "Seats                   -0.108079   -0.012748      0.348535         -0.094002   \n",
      "Fuel_Code               -0.048475    0.066164     -0.008336          0.125010   \n",
      "Transmission_Code        0.283188   -0.397609     -0.076974          0.155500   \n",
      "Brand_Audi              -0.118678   -0.125988     -0.111111         -0.103221   \n",
      "Brand_BMW               -0.126761   -0.134568     -0.118678         -0.110250   \n",
      "Brand_Ford              -0.126761   -0.134568     -0.118678         -0.110250   \n",
      "Brand_Honda             -0.091928   -0.097590     -0.086066         -0.079954   \n",
      "Brand_Hyundai           -0.101380   -0.107624     -0.094916         -0.088175   \n",
      "Brand_Mahindra          -0.081680   -0.086711     -0.076472         -0.071041   \n",
      "Brand_Maruti            -0.091928   -0.097590     -0.086066         -0.079954   \n",
      "Brand_Mercedes           1.000000   -0.134568     -0.118678         -0.110250   \n",
      "Brand_Tata              -0.134568    1.000000     -0.125988         -0.117041   \n",
      "Brand_Toyota            -0.118678   -0.125988      1.000000         -0.103221   \n",
      "Brand_Volkswagen        -0.110250   -0.117041     -0.103221          1.000000   \n",
      "Owner_Type_Codes        -0.172435   -0.375748     -0.012745          0.301080   \n",
      "Price                    0.431606   -0.341815     -0.023778         -0.158742   \n",
      "\n",
      "                   Owner_Type_Codes     Price  \n",
      "Car_ID                     0.038923  0.025560  \n",
      "Year                      -0.014499 -0.233769  \n",
      "Kilometers_Driven         -0.001772 -0.083951  \n",
      "Mileage                    0.026624 -0.638404  \n",
      "Engine                    -0.196106  0.710561  \n",
      "Power                     -0.204309  0.849137  \n",
      "Seats                     -0.043849  0.000979  \n",
      "Fuel_Code                  0.281122 -0.110782  \n",
      "Transmission_Code          0.005886  0.680731  \n",
      "Brand_Audi                -0.203925  0.328858  \n",
      "Brand_BMW                  0.009076  0.477522  \n",
      "Brand_Ford                 0.190586 -0.004592  \n",
      "Brand_Honda               -0.177705 -0.209779  \n",
      "Brand_Hyundai              0.297594 -0.263022  \n",
      "Brand_Mahindra             0.035088 -0.178627  \n",
      "Brand_Maruti               0.217195 -0.249737  \n",
      "Brand_Mercedes            -0.172435  0.431606  \n",
      "Brand_Tata                -0.375748 -0.341815  \n",
      "Brand_Toyota              -0.012745 -0.023778  \n",
      "Brand_Volkswagen           0.301080 -0.158742  \n",
      "Owner_Type_Codes           1.000000 -0.265537  \n",
      "Price                     -0.265537  1.000000  \n",
      "Сильна кореляція з цільовою змінною (|r| > 0.5):\n",
      "Mileage             -0.638404\n",
      "Engine               0.710561\n",
      "Power                0.849137\n",
      "Transmission_Code    0.680731\n",
      "Price                1.000000\n",
      "Name: Price, dtype: float64\n"
     ]
    }
   ],
   "execution_count": 431
  },
  {
   "metadata": {},
   "cell_type": "markdown",
   "source": [
    "**Висновок:**\n",
    "Звичайно, що треба було очистити дані від Price тут, бо Price корелює з Price як 1 :)\n",
    "Видно, що коли пробіг автомобіля (`Mileage`) зростає, то ціна на нього знижується. Також колонки `Engine` та `Power` мають високу кореляцію з ціною автомобіля. Це логічно, бо чим більше об'єм двигуна та потужність, тим вища ціна на авто. Звичайно, що як і в житті, то  тип трансмісії автомобіля також трохи впливає, хоча не так сильно у порівнняні із попередніми змінними.\n",
    "Але є хороше нагадування, що це не є доказом причинно-наслідкових зв'язків, а лише показником, що ці змінні можуть бути корисними для моделі."
   ]
  },
  {
   "cell_type": "markdown",
   "source": [
    "**Завдання 6**. Тренуємо лінійну регресію.\n",
    "0. Видаліть усі НЕчислові колонки з `X_train`, `X_test`, якщо ще цього не зробили.\n",
    "1. Натренуйте лінійну регресую з `sklearn` на усіх числових даних тренувального набору `X_train`.\n",
    "2. Зробіть передбачення на  `X_train`, `X_test`. Знайдіть і виведіть root mean squared error відхилення передбачення від справжніх значень цільової змінної.\n",
    "3. Побудуйте графік розсіювання передбачень проти реальних даних цільової змінної для тренувального і тестувального наборів даних. Що можете сказати про якість моделі?"
   ],
   "metadata": {
    "id": "G7BZ3pD-USgU"
   }
  },
  {
   "cell_type": "code",
   "source": [
    "# Видалення НЕчислових колонок із X_train і X_test\n",
    "X_train = X_train.select_dtypes(include=['number'])\n",
    "X_test = X_test.select_dtypes(include=['number'])"
   ],
   "metadata": {
    "id": "SElx21B4f3VY",
    "ExecuteTime": {
     "end_time": "2025-01-12T18:42:23.212491Z",
     "start_time": "2025-01-12T18:42:23.210405Z"
    }
   },
   "outputs": [],
   "execution_count": 432
  },
  {
   "metadata": {
    "ExecuteTime": {
     "end_time": "2025-01-12T18:42:23.272590Z",
     "start_time": "2025-01-12T18:42:23.268733Z"
    }
   },
   "cell_type": "code",
   "source": [
    "# Ініціалізація лінійної регресії\n",
    "model = LinearRegression()\n",
    "\n",
    "# Навчання моделі на тренувальних даних\n",
    "model.fit(X_train, y_train)\n",
    "\n",
    "# Передбачення на тренувальних і тестових даних\n",
    "y_train_pred = model.predict(X_train)\n",
    "y_test_pred = model.predict(X_test)\n",
    "\n",
    "# Обчислення RMSE\n",
    "rmse_train = np.sqrt(root_mean_squared_error(y_train, y_train_pred))\n",
    "rmse_test = np.sqrt(root_mean_squared_error(y_test, y_test_pred))\n",
    "\n",
    "# Виведення результатів\n",
    "print(f\"RMSE на тренувальних даних: {rmse_train}\")\n",
    "print(f\"RMSE на тестових даних: {rmse_test}\")"
   ],
   "outputs": [
    {
     "name": "stdout",
     "output_type": "stream",
     "text": [
      "RMSE на тренувальних даних: 458.5777777885868\n",
      "RMSE на тестових даних: 508.11569658919984\n"
     ]
    }
   ],
   "execution_count": 433
  },
  {
   "metadata": {
    "ExecuteTime": {
     "end_time": "2025-01-12T18:42:23.454951Z",
     "start_time": "2025-01-12T18:42:23.302129Z"
    }
   },
   "cell_type": "code",
   "source": [
    "# Графік для тренувальних даних\n",
    "plt.figure(figsize=(12, 6))\n",
    "plt.subplot(1, 2, 1)\n",
    "plt.scatter(y_train, y_train_pred, alpha=0.7, color='blue')\n",
    "plt.plot([y_train.min(), y_train.max()], [y_train.min(), y_train.max()], 'r--')  # Лінія y=x\n",
    "plt.xlabel('Реальні значення (y_train)')\n",
    "plt.ylabel('Передбачення (y_train_pred)')\n",
    "plt.title('Графік для тренувальних даних')\n",
    "\n",
    "# Графік для тестових даних\n",
    "plt.subplot(1, 2, 2)\n",
    "plt.scatter(y_test, y_test_pred, alpha=0.7, color='green')\n",
    "plt.plot([y_test.min(), y_test.max()], [y_test.min(), y_test.max()], 'r--')  # Лінія y=x\n",
    "plt.xlabel('Реальні значення (y_test)')\n",
    "plt.ylabel('Передбачення (y_test_pred)')\n",
    "plt.title('Графік для тестових даних')\n",
    "\n",
    "plt.tight_layout()\n",
    "plt.show()"
   ],
   "outputs": [
    {
     "data": {
      "text/plain": [
       "<Figure size 1200x600 with 2 Axes>"
      ],
      "image/png": "[encoded data removed]"
     },
     "metadata": {},
     "output_type": "display_data"
    }
   ],
   "execution_count": 434
  },
  {
   "metadata": {},
   "cell_type": "markdown",
   "source": [
    "**Висновок:**\n",
    "Модель непогано показує на тренувальних даних, але дуже погано на тестових, бо точки не лежать на прямій прям. Думаю, якщо би було не 100 записів, а більше, то точки щільніше були б на прямій. Але це лише припущення, можливо, що модель не дуже добре підходить для цих даних. По RMSE видно, що різниця насправді невелика, але графік показує, що є проблеми з точністю передбачень."
   ]
  },
  {
   "cell_type": "markdown",
   "source": [
    "**Завдання 7**. Ми хочемо проаналізувати як впливає кожен чинник на цілову змінну. Для цього давайте промасштабуємо наші дані.\n",
    "1. Зробіть масштабування незалежних змінних використовуючи `StandardScaler`. Тренуємо на тренувальних даних, а на тестувальних лише викликаємо `transform`.\n",
    "\n",
    "2. Натренуйте модель на відмасштабованих даних і перегляньте коефіцієнти моделі. Які колонки є найвпливовішими на формування передбачення з точки зору коефіцієнтів? Проаналізуйте напрям дії найважливіших коефіцієнтів. Чи це логічно з точки зору значення відповідних змінних, що вони впливають на цільову змінну саме в напрямі збільшення / зменшення?"
   ],
   "metadata": {
    "id": "0LcACfQ3W3VP"
   }
  },
  {
   "cell_type": "code",
   "source": [
    "# Ініціалізація StandardScaler\n",
    "scaler_enc = preprocessing.StandardScaler()\n",
    "\n",
    "# Масштабування тренувальних даних\n",
    "X_train_scaled = scaler_enc.fit_transform(X_train)\n",
    "\n",
    "# Масштабування тестових даних\n",
    "X_test_scaled = scaler_enc.transform(X_test)\n",
    "\n",
    "# Ініціалізація лінійної регресії\n",
    "model_scaled = LinearRegression()\n",
    "\n",
    "# Навчання моделі на масштабованих даних\n",
    "model_scaled.fit(X_train_scaled, y_train)\n",
    "\n",
    "# Отримання коефіцієнтів моделі\n",
    "coefficients = model_scaled.coef_"
   ],
   "metadata": {
    "id": "HA-l3vUWf6Af",
    "ExecuteTime": {
     "end_time": "2025-01-12T18:42:23.487967Z",
     "start_time": "2025-01-12T18:42:23.484157Z"
    }
   },
   "outputs": [],
   "execution_count": 435
  },
  {
   "metadata": {
    "ExecuteTime": {
     "end_time": "2025-01-12T18:42:23.545195Z",
     "start_time": "2025-01-12T18:42:23.541858Z"
    }
   },
   "cell_type": "code",
   "source": [
    "coefficients_df = pd.DataFrame({\n",
    "    'Feature': X_train.columns,\n",
    "    'Coefficient': coefficients,\n",
    "    'Absolute_Coefficient': abs(coefficients)\n",
    "})\n",
    "\n",
    "# Сортуємо за абсолютними значеннями коефіцієнтів\n",
    "coefficients_df = coefficients_df.sort_values(by='Absolute_Coefficient', ascending=False)\n",
    "\n",
    "# Виведення таблиці коефіцієнтів\n",
    "print(coefficients_df)"
   ],
   "outputs": [
    {
     "name": "stdout",
     "output_type": "stream",
     "text": [
      "              Feature    Coefficient  Absolute_Coefficient\n",
      "5               Power  496769.214899         496769.214899\n",
      "16     Brand_Mercedes  210048.781148         210048.781148\n",
      "10          Brand_BMW  208407.313783         208407.313783\n",
      "9          Brand_Audi  205600.147769         205600.147769\n",
      "7           Fuel_Code -183848.018909         183848.018909\n",
      "13      Brand_Hyundai -152304.863911         152304.863911\n",
      "14     Brand_Mahindra -140945.162904         140945.162904\n",
      "3             Mileage -131715.512030         131715.512030\n",
      "11         Brand_Ford -118209.450311         118209.450311\n",
      "8   Transmission_Code  116693.768206         116693.768206\n",
      "15       Brand_Maruti -112259.967020         112259.967020\n",
      "2   Kilometers_Driven  -94398.721486          94398.721486\n",
      "19   Brand_Volkswagen  -92968.260065          92968.260065\n",
      "17         Brand_Tata  -65996.246972          65996.246972\n",
      "12        Brand_Honda  -62753.005386          62753.005386\n",
      "20   Owner_Type_Codes   42344.952815          42344.952815\n",
      "4              Engine  -21377.453338          21377.453338\n",
      "18       Brand_Toyota   15805.701511          15805.701511\n",
      "1                Year   -8765.645714           8765.645714\n",
      "0              Car_ID    5608.685421           5608.685421\n",
      "6               Seats   -2148.924549           2148.924549\n"
     ]
    }
   ],
   "execution_count": 436
  },
  {
   "metadata": {},
   "cell_type": "markdown",
   "source": [
    "**Висновок:**\n",
    "Дійсно, що `Power` повинен впливати на вартість автомобіля. Чим він більший, тим дорожче машина. Бачимо, що бренд дуже сильно впливає на варість і бачимо, що Mercedes та BMW бренд додає вартості. І це дійсно плата за \"бренд\". Видно, що `Fuel_Code` впливає із негативним трендом. Тобто дизельні дійсно дешевше. І також чим більший пробіг автомобіля, тим менше його ціна. Це дійсно логічно.\n",
    "Дивно було бачити, що Ford знижує вартість. Можливо, це через те, що вони випускають більше бюджетні автомобілі, або через щось інше. Але це дійсно цікаво."
   ]
  },
  {
   "cell_type": "markdown",
   "source": [
    "**Завдання 8.** На тих самих відмасштабованих даних натренуйте модель з `statsmodels`. Виведіть звіт і проаналізуйте p-value коефіцієнтів. Які ознаки є стат значущими на рівні значущості 0.05? Напишіть їх список."
   ],
   "metadata": {
    "id": "WNNkfnrHr7wL"
   }
  },
  {
   "cell_type": "code",
   "source": [
    "# Додавання константи до X_train_scaled\n",
    "X_train_scaled_with_const = sm.add_constant(X_train_scaled)\n",
    "X_train_scaled_df = pd.DataFrame(X_train_scaled_with_const, columns=['const'] + list(X_train.columns))\n",
    "\n",
    "# Скидання індексів\n",
    "y_train = y_train.reset_index(drop=True)"
   ],
   "metadata": {
    "id": "hcYoViyff7zE",
    "ExecuteTime": {
     "end_time": "2025-01-12T18:42:23.558633Z",
     "start_time": "2025-01-12T18:42:23.556526Z"
    }
   },
   "outputs": [],
   "execution_count": 437
  },
  {
   "metadata": {
    "ExecuteTime": {
     "end_time": "2025-01-12T18:42:23.593710Z",
     "start_time": "2025-01-12T18:42:23.586833Z"
    }
   },
   "cell_type": "code",
   "source": [
    "# Тренування моделі з statsmodels\n",
    "model_sm = sm.OLS(y_train, X_train_scaled_df)\n",
    "results = model_sm.fit()\n",
    "\n",
    "# Виведення звіту моделі\n",
    "print(results.summary())"
   ],
   "outputs": [
    {
     "name": "stdout",
     "output_type": "stream",
     "text": [
      "                            OLS Regression Results                            \n",
      "==============================================================================\n",
      "Dep. Variable:                  Price   R-squared:                       0.959\n",
      "Model:                            OLS   Adj. R-squared:                  0.945\n",
      "Method:                 Least Squares   F-statistic:                     68.35\n",
      "Date:                Sun, 12 Jan 2025   Prob (F-statistic):           2.01e-33\n",
      "Time:                        20:42:23   Log-Likelihood:                -1094.0\n",
      "No. Observations:                  80   AIC:                             2230.\n",
      "Df Residuals:                      59   BIC:                             2280.\n",
      "Df Model:                          20                                         \n",
      "Covariance Type:            nonrobust                                         \n",
      "=====================================================================================\n",
      "                        coef    std err          t      P>|t|      [0.025      0.975]\n",
      "-------------------------------------------------------------------------------------\n",
      "const               1.68e+06   2.74e+04     61.363      0.000    1.63e+06    1.73e+06\n",
      "Car_ID             5608.6854   3.37e+04      0.166      0.869   -6.19e+04    7.31e+04\n",
      "Year              -8765.6457   6.09e+04     -0.144      0.886   -1.31e+05    1.13e+05\n",
      "Kilometers_Driven  -9.44e+04   6.51e+04     -1.449      0.153   -2.25e+05    3.59e+04\n",
      "Mileage           -1.317e+05   5.83e+04     -2.259      0.028   -2.48e+05    -1.5e+04\n",
      "Engine            -2.138e+04   7.29e+04     -0.293      0.770   -1.67e+05    1.24e+05\n",
      "Power              4.968e+05   7.54e+04      6.588      0.000    3.46e+05    6.48e+05\n",
      "Seats             -2148.9245   4.22e+04     -0.051      0.960   -8.66e+04    8.23e+04\n",
      "Fuel_Code         -1.838e+05   4.57e+04     -4.026      0.000   -2.75e+05   -9.25e+04\n",
      "Transmission_Code  1.167e+05    4.4e+04      2.653      0.010    2.87e+04    2.05e+05\n",
      "Brand_Audi         2.056e+05   3.05e+04      6.738      0.000    1.45e+05    2.67e+05\n",
      "Brand_BMW          2.084e+05   3.19e+04      6.532      0.000    1.45e+05    2.72e+05\n",
      "Brand_Ford        -1.182e+05   3.37e+04     -3.507      0.001   -1.86e+05   -5.08e+04\n",
      "Brand_Honda       -6.275e+04   3.44e+04     -1.825      0.073   -1.32e+05    6034.235\n",
      "Brand_Hyundai     -1.523e+05    2.9e+04     -5.247      0.000    -2.1e+05   -9.42e+04\n",
      "Brand_Mahindra    -1.409e+05   2.97e+04     -4.747      0.000      -2e+05   -8.15e+04\n",
      "Brand_Maruti      -1.123e+05   2.91e+04     -3.856      0.000   -1.71e+05    -5.4e+04\n",
      "Brand_Mercedes       2.1e+05   3.14e+04      6.682      0.000    1.47e+05    2.73e+05\n",
      "Brand_Tata          -6.6e+04   3.95e+04     -1.672      0.100   -1.45e+05     1.3e+04\n",
      "Brand_Toyota       1.581e+04   3.47e+04      0.456      0.650   -5.36e+04    8.52e+04\n",
      "Brand_Volkswagen  -9.297e+04      3e+04     -3.097      0.003   -1.53e+05   -3.29e+04\n",
      "Owner_Type_Codes   4.234e+04   4.75e+04      0.892      0.376   -5.27e+04    1.37e+05\n",
      "==============================================================================\n",
      "Omnibus:                        0.187   Durbin-Watson:                   2.053\n",
      "Prob(Omnibus):                  0.911   Jarque-Bera (JB):                0.311\n",
      "Skew:                           0.104   Prob(JB):                        0.856\n",
      "Kurtosis:                       2.776   Cond. No.                     4.02e+15\n",
      "==============================================================================\n",
      "\n",
      "Notes:\n",
      "[1] Standard Errors assume that the covariance matrix of the errors is correctly specified.\n",
      "[2] The smallest eigenvalue is 1.86e-29. This might indicate that there are\n",
      "strong multicollinearity problems or that the design matrix is singular.\n"
     ]
    }
   ],
   "execution_count": 438
  },
  {
   "metadata": {
    "ExecuteTime": {
     "end_time": "2025-01-12T18:42:23.625031Z",
     "start_time": "2025-01-12T18:42:23.622489Z"
    }
   },
   "cell_type": "code",
   "source": [
    "p_values = results.pvalues\n",
    "significant_features = p_values[p_values < 0.05]\n",
    "significant_features_names = significant_features.index.tolist()\n",
    "\n",
    "print(\"Статистично значущі ознаки на рівні значущості 0.05:\")\n",
    "print(significant_features)"
   ],
   "outputs": [
    {
     "name": "stdout",
     "output_type": "stream",
     "text": [
      "Статистично значущі ознаки на рівні значущості 0.05:\n",
      "const                3.734558e-55\n",
      "Mileage              2.760048e-02\n",
      "Power                1.343837e-08\n",
      "Fuel_Code            1.639420e-04\n",
      "Transmission_Code    1.022962e-02\n",
      "Brand_Audi           7.485851e-09\n",
      "Brand_BMW            1.669757e-08\n",
      "Brand_Ford           8.736558e-04\n",
      "Brand_Hyundai        2.204650e-06\n",
      "Brand_Mahindra       1.354686e-05\n",
      "Brand_Maruti         2.875539e-04\n",
      "Brand_Mercedes       9.320195e-09\n",
      "Brand_Volkswagen     2.993263e-03\n",
      "dtype: float64\n"
     ]
    }
   ],
   "execution_count": 439
  },
  {
   "metadata": {},
   "cell_type": "markdown",
   "source": [
    "**Висновок:**\n",
    "R-squared на рівні 0.959 показує, що у нас дуже хороша модель і ми все зробили правильно. На основі статистично значущих ознак ми дійсно підтверджуємоо, що `Mileage` `Power`, `Fuel_Code`, `Transmission_Code` та `Brand` (а ми бренд закодили в різні підколонки і видимо, що кожна впливає, то ж я можу сказати, що дані від клієнта у вигляді колонки `Brand` було доцільним) є статистично значущими ознаками.\n",
    "Це підтверджую нашу здогадку, що більш преміальні автомобілі з більш потужним двигуном, меншим пробігом та дизельним паливом коштують дорожче. А більш бюджетні автомобілі з більшим пробігом повинні коштувати менше."
   ]
  },
  {
   "cell_type": "markdown",
   "source": [
    "**Завдання 9**. Натренуйте лінійну регресію з `statsmodels` тільки на ознаках, які виявлись стат. значущими в попередньому завданні. Проаналізуйте показники моделі. Чи значно змінились R2 і Adj. R-squared?"
   ],
   "metadata": {
    "id": "pvOdCEVccfcM"
   }
  },
  {
   "cell_type": "code",
   "source": [
    "# Перевірка існування колонок\n",
    "existing_columns = X_train_scaled_df.columns.tolist()\n",
    "\n",
    "# Фільтрація значущих ознак на основі наявності в DataFrame\n",
    "available_significant_features = [feature for feature in significant_features_names if feature in existing_columns]\n",
    "\n",
    "# Вибір значущих існуючих ознак\n",
    "X_train_significant = X_train_scaled_df[available_significant_features]"
   ],
   "metadata": {
    "id": "2uE1DqiCf85H",
    "ExecuteTime": {
     "end_time": "2025-01-12T18:42:23.654509Z",
     "start_time": "2025-01-12T18:42:23.652679Z"
    }
   },
   "outputs": [],
   "execution_count": 440
  },
  {
   "metadata": {
    "ExecuteTime": {
     "end_time": "2025-01-12T18:42:23.712881Z",
     "start_time": "2025-01-12T18:42:23.706917Z"
    }
   },
   "cell_type": "code",
   "source": [
    "# Тренування моделі з statsmodels\n",
    "model_sm_significant_soft = sm.OLS(y_train, X_train_significant).fit()\n",
    "\n",
    "# Виведення звіту моделі\n",
    "summary = model_sm_significant_soft.summary()\n",
    "print(summary)"
   ],
   "outputs": [
    {
     "name": "stdout",
     "output_type": "stream",
     "text": [
      "                            OLS Regression Results                            \n",
      "==============================================================================\n",
      "Dep. Variable:                  Price   R-squared:                       0.951\n",
      "Model:                            OLS   Adj. R-squared:                  0.943\n",
      "Method:                 Least Squares   F-statistic:                     109.4\n",
      "Date:                Sun, 12 Jan 2025   Prob (F-statistic):           4.12e-39\n",
      "Time:                        20:42:23   Log-Likelihood:                -1100.4\n",
      "No. Observations:                  80   AIC:                             2227.\n",
      "Df Residuals:                      67   BIC:                             2258.\n",
      "Df Model:                          12                                         \n",
      "Covariance Type:            nonrobust                                         \n",
      "=====================================================================================\n",
      "                        coef    std err          t      P>|t|      [0.025      0.975]\n",
      "-------------------------------------------------------------------------------------\n",
      "const               1.68e+06   2.78e+04     60.360      0.000    1.62e+06    1.74e+06\n",
      "Mileage            -1.43e+05   4.02e+04     -3.561      0.001   -2.23e+05   -6.29e+04\n",
      "Power              4.556e+05    5.1e+04      8.941      0.000    3.54e+05    5.57e+05\n",
      "Fuel_Code         -1.337e+05   2.99e+04     -4.479      0.000   -1.93e+05   -7.41e+04\n",
      "Transmission_Code  1.311e+05    4.3e+04      3.046      0.003    4.52e+04    2.17e+05\n",
      "Brand_Audi         2.497e+05   3.53e+04      7.075      0.000    1.79e+05     3.2e+05\n",
      "Brand_BMW           2.95e+05   3.78e+04      7.802      0.000     2.2e+05     3.7e+05\n",
      "Brand_Ford        -4.855e+04   3.52e+04     -1.378      0.173   -1.19e+05    2.18e+04\n",
      "Brand_Hyundai     -1.027e+05   3.17e+04     -3.238      0.002   -1.66e+05   -3.94e+04\n",
      "Brand_Mahindra    -8.538e+04   3.02e+04     -2.825      0.006   -1.46e+05    -2.5e+04\n",
      "Brand_Maruti      -5.118e+04   3.07e+04     -1.665      0.101   -1.13e+05    1.02e+04\n",
      "Brand_Mercedes     2.767e+05   3.68e+04      7.515      0.000    2.03e+05     3.5e+05\n",
      "Brand_Volkswagen  -2.375e+04    3.4e+04     -0.699      0.487   -9.16e+04    4.41e+04\n",
      "==============================================================================\n",
      "Omnibus:                        1.178   Durbin-Watson:                   1.830\n",
      "Prob(Omnibus):                  0.555   Jarque-Bera (JB):                1.084\n",
      "Skew:                           0.279   Prob(JB):                        0.582\n",
      "Kurtosis:                       2.879   Cond. No.                         3.68\n",
      "==============================================================================\n",
      "\n",
      "Notes:\n",
      "[1] Standard Errors assume that the covariance matrix of the errors is correctly specified.\n"
     ]
    }
   ],
   "execution_count": 441
  },
  {
   "metadata": {},
   "cell_type": "markdown",
   "source": [
    "**Висновок:**\n",
    "R-squared: 0.951 та Adj. R-squared: 0.943 стали. А були - R-squared: 0.959 та Adj. R-squared: 0.945. Бачимо, що модель трохи погіршилась. в такому випадку. Воно не значно змінилось і все допустимо. Тобто ми можемо сказати, що ці всі параметри дійсно впливають на ціну автомобіля."
   ]
  },
  {
   "cell_type": "markdown",
   "source": [
    "**Завдання 10**. Натренуйте лінійну регресію з `statsmodels` на усіх ознаках з масштабованого `X_train`, у яких p_value в завданні 7 менше за `0.25`. Ми таким чином помʼякшили критерій відбору ознак. Проаналізуйте показники моделі. Чи значно змінились R2 і Adj. R-squared порівняно з завданням 7? Яку модель з останніх 3х завдань ви б лишили для використання?"
   ],
   "metadata": {
    "id": "q-AJSrlxdx-p"
   }
  },
  {
   "cell_type": "code",
   "source": [
    "p_values = results.pvalues\n",
    "soft_significant_features = p_values[p_values < 0.25]\n",
    "soft_significant_features_names = soft_significant_features.index.tolist()\n",
    "\n",
    "print(\"Статистично значущі ознаки на рівні значущості 0.25:\")\n",
    "print(significant_features)"
   ],
   "metadata": {
    "id": "nBVF4b-bgAdz",
    "ExecuteTime": {
     "end_time": "2025-01-12T18:42:23.780137Z",
     "start_time": "2025-01-12T18:42:23.777559Z"
    }
   },
   "outputs": [
    {
     "name": "stdout",
     "output_type": "stream",
     "text": [
      "Статистично значущі ознаки на рівні значущості 0.25:\n",
      "const                3.734558e-55\n",
      "Mileage              2.760048e-02\n",
      "Power                1.343837e-08\n",
      "Fuel_Code            1.639420e-04\n",
      "Transmission_Code    1.022962e-02\n",
      "Brand_Audi           7.485851e-09\n",
      "Brand_BMW            1.669757e-08\n",
      "Brand_Ford           8.736558e-04\n",
      "Brand_Hyundai        2.204650e-06\n",
      "Brand_Mahindra       1.354686e-05\n",
      "Brand_Maruti         2.875539e-04\n",
      "Brand_Mercedes       9.320195e-09\n",
      "Brand_Volkswagen     2.993263e-03\n",
      "dtype: float64\n"
     ]
    }
   ],
   "execution_count": 442
  },
  {
   "metadata": {
    "ExecuteTime": {
     "end_time": "2025-01-12T18:42:23.812279Z",
     "start_time": "2025-01-12T18:42:23.810154Z"
    }
   },
   "cell_type": "code",
   "source": [
    "# Перевірка існування колонок\n",
    "existing_columns = X_train_scaled_df.columns.tolist()\n",
    "\n",
    "# Фільтрація значущих ознак на основі наявності в DataFrame\n",
    "available_soft_significant_features = [feature for feature in soft_significant_features_names if feature in existing_columns]\n",
    "\n",
    "# Вибір значущих існуючих ознак\n",
    "X_train_soft_significant = X_train_scaled_df[available_soft_significant_features]"
   ],
   "outputs": [],
   "execution_count": 443
  },
  {
   "metadata": {
    "ExecuteTime": {
     "end_time": "2025-01-12T18:42:23.846119Z",
     "start_time": "2025-01-12T18:42:23.839251Z"
    }
   },
   "cell_type": "code",
   "source": [
    "# Тренування моделі з statsmodels\n",
    "model_sm_soft_significant_soft = sm.OLS(y_train, X_train_soft_significant).fit()\n",
    "\n",
    "# Виведення звіту моделі\n",
    "summary = model_sm_soft_significant_soft.summary()\n",
    "print(summary)"
   ],
   "outputs": [
    {
     "name": "stdout",
     "output_type": "stream",
     "text": [
      "                            OLS Regression Results                            \n",
      "==============================================================================\n",
      "Dep. Variable:                  Price   R-squared:                       0.958\n",
      "Model:                            OLS   Adj. R-squared:                  0.948\n",
      "Method:                 Least Squares   F-statistic:                     97.03\n",
      "Date:                Sun, 12 Jan 2025   Prob (F-statistic):           4.85e-38\n",
      "Time:                        20:42:23   Log-Likelihood:                -1094.7\n",
      "No. Observations:                  80   AIC:                             2221.\n",
      "Df Residuals:                      64   BIC:                             2260.\n",
      "Df Model:                          15                                         \n",
      "Covariance Type:            nonrobust                                         \n",
      "=====================================================================================\n",
      "                        coef    std err          t      P>|t|      [0.025      0.975]\n",
      "-------------------------------------------------------------------------------------\n",
      "const               1.68e+06   2.65e+04     63.341      0.000    1.63e+06    1.73e+06\n",
      "Kilometers_Driven -7.887e+04   3.47e+04     -2.275      0.026   -1.48e+05   -9600.782\n",
      "Mileage           -1.213e+05   4.52e+04     -2.685      0.009   -2.12e+05    -3.1e+04\n",
      "Power              4.667e+05   4.93e+04      9.475      0.000    3.68e+05    5.65e+05\n",
      "Fuel_Code         -1.629e+05   3.14e+04     -5.184      0.000   -2.26e+05      -1e+05\n",
      "Transmission_Code  1.175e+05   4.15e+04      2.832      0.006    3.46e+04       2e+05\n",
      "Brand_Audi          1.95e+05   3.86e+04      5.051      0.000    1.18e+05    2.72e+05\n",
      "Brand_BMW          2.093e+05   4.53e+04      4.620      0.000    1.19e+05       3e+05\n",
      "Brand_Ford         -1.14e+05      4e+04     -2.851      0.006   -1.94e+05   -3.41e+04\n",
      "Brand_Honda       -7.975e+04   3.83e+04     -2.085      0.041   -1.56e+05   -3324.825\n",
      "Brand_Hyundai     -1.518e+05    3.7e+04     -4.107      0.000   -2.26e+05    -7.8e+04\n",
      "Brand_Mahindra    -1.444e+05   3.47e+04     -4.163      0.000   -2.14e+05   -7.51e+04\n",
      "Brand_Maruti      -1.159e+05   3.64e+04     -3.189      0.002   -1.89e+05   -4.33e+04\n",
      "Brand_Mercedes     2.048e+05    4.2e+04      4.874      0.000    1.21e+05    2.89e+05\n",
      "Brand_Tata        -9.701e+04   4.27e+04     -2.269      0.027   -1.82e+05   -1.16e+04\n",
      "Brand_Volkswagen  -9.073e+04   3.94e+04     -2.304      0.024   -1.69e+05   -1.21e+04\n",
      "==============================================================================\n",
      "Omnibus:                        0.317   Durbin-Watson:                   2.011\n",
      "Prob(Omnibus):                  0.853   Jarque-Bera (JB):                0.436\n",
      "Skew:                           0.137   Prob(JB):                        0.804\n",
      "Kurtosis:                       2.763   Cond. No.                         5.98\n",
      "==============================================================================\n",
      "\n",
      "Notes:\n",
      "[1] Standard Errors assume that the covariance matrix of the errors is correctly specified.\n"
     ]
    }
   ],
   "execution_count": 444
  },
  {
   "metadata": {},
   "cell_type": "markdown",
   "source": [
    "**Висновок:**\n",
    "Зараз ми маємо R-squared: 0.958 та Adj. R-squared 0.948. Тобто перша модель була найкрутіша сама добра по R-squared. Ця йде наступною і остання із 9 завданням. Я би взяв першу модель, бо вона найкраща звичайно і вона має найбільшу точність (хоча не прям настільки). Тобто дійсно всі значущі параметри впливають на ціну автомобіля і ми їх знайшли. Можна було б ще спробувати закодувати модель втомобіля щось типу седан, хетчбек і подивитись чи впливає це на ціну автомобіля. Попередньо думаю, що ні, бо ми вже знайшли усі статистично значущі параметри.\n",
    "\n",
    "Насправді усі моделі дуже близькі і показують хороший результат. Можна для \"простити\" використати з найбільш значущими фічами, щоб легше було розуміти і аналізувати людині також для подальшого використання. Цікаво було б донавчати її на більших даних і подивитись тоді так, але ми розуміємо, що там тільки точність буде гірше на простеньких моделях, але це не означає, що вона буде гірше, бо навіть 0.85 це буде також хороший результат.\n",
    "\n"
   ]
  }
 ]
}
