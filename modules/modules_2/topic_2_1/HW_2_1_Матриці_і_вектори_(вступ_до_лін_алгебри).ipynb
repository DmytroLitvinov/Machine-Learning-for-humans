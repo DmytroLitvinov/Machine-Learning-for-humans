{
 "nbformat": 4,
 "nbformat_minor": 0,
 "metadata": {
  "colab": {
   "provenance": []
  },
  "kernelspec": {
   "name": "python3",
   "display_name": "Python 3 (ipykernel)",
   "language": "python"
  },
  "language_info": {
   "name": "python"
  }
 },
 "cells": [
  {
   "metadata": {
    "ExecuteTime": {
     "end_time": "2025-01-11T16:32:12.664368Z",
     "start_time": "2025-01-11T16:32:12.376667Z"
    }
   },
   "cell_type": "code",
   "source": "import numpy as np",
   "outputs": [],
   "execution_count": 1
  },
  {
   "cell_type": "markdown",
   "source": [
    "### Завдання 1: Створення матриць та векторів\n",
    "1. Створіть `numpy` вектор `vector` розмірністю 10 з випадковими дійсними значеннями в діапазоні від 0 до 1. Можна скористатись двома альтернативними варіантами:\n",
    "  1. Генерація випадкових чисел з модулем [`random.uniform`](https://docs.python.org/3/library/random.html).\n",
    "  2. Створення вектора з допомогою метода `numpy` [np.random.rand](https://numpy.org/doc/stable/reference/random/generated/numpy.random.rand.html)\n",
    "\n",
    "2. Створіть матрицю `matrix` типу `numpy.array` розмірності 3x3 з наступними значеннями\n",
    "\n",
    "  $$\n",
    "  matrix = \\begin{bmatrix}\n",
    "  11 & 14 & 17 \\\\\n",
    "  20 & 23 & 26 \\\\\n",
    "  29 & 32 & 35\n",
    "  \\end{bmatrix}\n",
    "  $$\n",
    "\n",
    "  будь-яким відомими Вам способом.\n",
    "\n",
    "Виведіть на екран вектор і матрицю, а також їх розміри.\n"
   ],
   "metadata": {
    "id": "efug1V4CM0lT"
   }
  },
  {
   "cell_type": "code",
   "source": [
    "# Створення вектора `vector` розмірністю 10 з випадковими дійсними значеннями в діапазоні від 0 до 1.\n",
    "vector = np.random.rand(10)\n",
    "print(vector.shape, vector)\n",
    "\n",
    "# Створення матриці `matrix` типу `numpy.array` розмірності 3x3\n",
    "matrix = np.array([[11, 14, 17], [20, 23, 26], [29, 32, 35]])\n",
    "print(matrix.shape, matrix)"
   ],
   "metadata": {
    "id": "jxA_lG2_VIMe",
    "ExecuteTime": {
     "end_time": "2025-01-11T16:39:26.589789Z",
     "start_time": "2025-01-11T16:39:26.586425Z"
    }
   },
   "outputs": [
    {
     "name": "stdout",
     "output_type": "stream",
     "text": [
      "(10,) [0.77030383 0.57772557 0.77625574 0.35081964 0.48760584 0.98940612\n",
      " 0.15086307 0.19904045 0.45416132 0.57739064]\n",
      "(3, 3) [[11 14 17]\n",
      " [20 23 26]\n",
      " [29 32 35]]\n"
     ]
    }
   ],
   "execution_count": 6
  },
  {
   "cell_type": "markdown",
   "source": [
    "\n",
    "### Завдання 2: Операції над векторами та матрицями\n",
    "Виконайте кожну з зазначених операцій над зазначеними оʼєктами і виведіть результат на екран:\n",
    "1. Додайте до кожного значення вектора `vector` число 10 і округліть кожне значення до 2 знаків після коми без використання циклів.\n",
    "2. Помножте кожен елемент матриці з першого завдання на 2 без використання циклів.\n",
    "3. Створіть новий вектор, який містить квадрат кожного `vector` без циклів.\n"
   ],
   "metadata": {
    "id": "TSJ1P4OuOVe2"
   }
  },
  {
   "cell_type": "code",
   "source": [
    "print(vector)\n",
    "\n",
    "# Додавання до кожного значення вектора `vector` число 10 і округлення кожного значення до 2 знаків після коми\n",
    "vector_plus_10 = np.round(vector + 10, 2)\n",
    "print(vector_plus_10)\n",
    "\n",
    "# Помноження кожного елементу матриці на 2 без використання циклів\n",
    "matrix_multiplied_by_2 = matrix * 2\n",
    "print(matrix_multiplied_by_2)\n",
    "\n",
    "# TODO: із завдання не чітко зрозуміло чи то треба з початковою змінною `vector` працювати чи з `vector_plus_10`\n",
    "# Створення нового вектора, який містить квадрат кожного `vector` без циклів\n",
    "vector_squared = np.square(vector)\n",
    "print(vector_squared)"
   ],
   "metadata": {
    "id": "nAAojtyUVJXN",
    "ExecuteTime": {
     "end_time": "2025-01-11T16:56:37.150752Z",
     "start_time": "2025-01-11T16:56:37.147739Z"
    }
   },
   "outputs": [
    {
     "name": "stdout",
     "output_type": "stream",
     "text": [
      "[0.77030383 0.57772557 0.77625574 0.35081964 0.48760584 0.98940612\n",
      " 0.15086307 0.19904045 0.45416132 0.57739064]\n",
      "[10.77 10.58 10.78 10.35 10.49 10.99 10.15 10.2  10.45 10.58]\n",
      "[[22 28 34]\n",
      " [40 46 52]\n",
      " [58 64 70]]\n",
      "[0.593368   0.33376683 0.60257298 0.12307442 0.23775946 0.97892446\n",
      " 0.02275966 0.0396171  0.2062625  0.33337996]\n"
     ]
    }
   ],
   "execution_count": 20
  },
  {
   "cell_type": "markdown",
   "source": [
    "\n",
    "### Завдання 3: Множення матриць\n",
    "1. Задані дві матриці `A` і `B`розмірностями 3x2 та 2х3. Виконайте їхнє множення, щоб отримати матрицю 2x2. Виведіть результуючу матрицю `result_matrix` на екран.\n",
    "\n",
    "2. Заданий вектор `C` розмірністю 2х1. Подумайте спочатку, яку розмірність Ви отрмаєте, коли домножите `result_matrix` на вектор `C` і який результат буде. А потім виконайте множення і виведіть результат на екран.\n",
    "\n",
    "3. Задана матриця `D` розмірністю 2х2. Подумайте спочатку, яку розмірність Ви отрмаєте, коли домножите `result_matrix` на матрицю `D` і який результат буде. А потім виконайте множення і виведіть результат на екран."
   ],
   "metadata": {
    "id": "u6RvWVfhPy-k"
   }
  },
  {
   "cell_type": "code",
   "source": [
    "A = np.array(\n",
    "    [[0.18, 0.53],\n",
    "     [0.75, 0.47],\n",
    "     [0.35, 0.21]])\n",
    "\n",
    "B = np.array(\n",
    "    [[0.17, 0.58, 0.75],\n",
    "     [0.38, 0.11, 0.15]])\n",
    "\n",
    "C = np.array([[0], [1]])\n",
    "\n",
    "D = np.array([[0,1], [1,0]])\n",
    "\n",
    "display(A, B, C, D)"
   ],
   "metadata": {
    "id": "RwXfPzlbSJ44",
    "ExecuteTime": {
     "end_time": "2025-01-11T16:57:29.375311Z",
     "start_time": "2025-01-11T16:57:29.372606Z"
    }
   },
   "outputs": [
    {
     "name": "stdout",
     "output_type": "stream",
     "text": [
      "[[0.18 0.53]\n",
      " [0.75 0.47]\n",
      " [0.35 0.21]] [[0.17 0.58 0.75]\n",
      " [0.38 0.11 0.15]] [[0]\n",
      " [1]] [[0 1]\n",
      " [1 0]]\n"
     ]
    }
   ],
   "execution_count": 24
  },
  {
   "cell_type": "code",
   "source": [
    "# 1 завдання\n",
    "result_matrix = np.dot(B, A)\n",
    "print('Завдання 1')\n",
    "print(result_matrix, result_matrix.shape)\n",
    "\n",
    "# 2 завдання\n",
    "result_vector = np.dot(result_matrix, C)\n",
    "print('Завдання 2')\n",
    "print(result_vector, result_vector.shape)\n",
    "\n",
    "# 3 завдання\n",
    "result_matrix_2 = np.dot(result_matrix, D)\n",
    "print('Завдання 3')\n",
    "print(result_matrix_2, result_matrix_2.shape)"
   ],
   "metadata": {
    "id": "z7-boTbhVKkj",
    "ExecuteTime": {
     "end_time": "2025-01-11T17:05:36.347870Z",
     "start_time": "2025-01-11T17:05:36.344770Z"
    }
   },
   "outputs": [
    {
     "name": "stdout",
     "output_type": "stream",
     "text": [
      "Завдання 1\n",
      "[[0.7281 0.5202]\n",
      " [0.2034 0.2846]] (2, 2)\n",
      "Завдання 2\n",
      "[[0.5202]\n",
      " [0.2846]] (2, 1)\n",
      "Завдання 3\n",
      "[[0.5202 0.7281]\n",
      " [0.2846 0.2034]] (2, 2)\n"
     ]
    }
   ],
   "execution_count": 30
  },
  {
   "cell_type": "markdown",
   "source": [
    "\n",
    "### Завдання 4: Транспонування матриць\n",
    "1. Транспонуйте `result_matrix`.\n",
    "2. Зробіть транспонування вектора `vector` і виведіть форму нової структури. Чи бачите ви зміну?\n",
    "3. Використайте операцію `numpy.expand_dims` над вектором `vector` з аргументом axis=1. Запишіть отриманий результат в змінну `column_vector` і виведіть на екран. Порівняйте з `vector`.\n",
    "4. Зробіть транспонування `column_vector`, виведіть результат на екран разом з розмірностями отриманої структури.\n",
    "\n",
    "\n"
   ],
   "metadata": {
    "id": "wohp0_cxSGpl"
   }
  },
  {
   "cell_type": "code",
   "source": [
    "# 1 завдання\n",
    "transposed_result_matrix = result_matrix.T\n",
    "print('Завдання 1')\n",
    "print(transposed_result_matrix, transposed_result_matrix.shape)\n",
    "\n",
    "# 2 завдання\n",
    "transposed_vector = vector.T\n",
    "print('Завдання 2')\n",
    "print(transposed_vector, transposed_vector.shape)\n",
    "print('Зміна відсутня при транспонуванні вектора')\n",
    "\n",
    "# 3 завдання\n",
    "column_vector = np.expand_dims(vector, axis=1)\n",
    "print('Завдання 3')\n",
    "print(column_vector, column_vector.shape)\n",
    "print('Бачимо, що це тепер стало розмірністю 10x1')\n",
    "\n",
    "# 4 завдання\n",
    "transposed_column_vector = column_vector.T\n",
    "print('Завдання 4')\n",
    "print(transposed_column_vector, transposed_column_vector.shape)\n",
    "print('Бачимо, що це тепер стало розмірністю 1x10')"
   ],
   "metadata": {
    "id": "4hFcq1baVLii",
    "ExecuteTime": {
     "end_time": "2025-01-11T17:11:37.529856Z",
     "start_time": "2025-01-11T17:11:37.526186Z"
    }
   },
   "outputs": [
    {
     "name": "stdout",
     "output_type": "stream",
     "text": [
      "Завдання 1\n",
      "[[0.7281 0.2034]\n",
      " [0.5202 0.2846]] (2, 2)\n",
      "Завдання 2\n",
      "[0.77030383 0.57772557 0.77625574 0.35081964 0.48760584 0.98940612\n",
      " 0.15086307 0.19904045 0.45416132 0.57739064] (10,)\n",
      "Зміна відсутня при транспонуванні вектора\n",
      "Завдання 3\n",
      "[[0.77030383]\n",
      " [0.57772557]\n",
      " [0.77625574]\n",
      " [0.35081964]\n",
      " [0.48760584]\n",
      " [0.98940612]\n",
      " [0.15086307]\n",
      " [0.19904045]\n",
      " [0.45416132]\n",
      " [0.57739064]] (10, 1)\n",
      "Бачимо, що це тепер стало розмірністю 10x1\n",
      "Завдання 4\n",
      "[[0.77030383 0.57772557 0.77625574 0.35081964 0.48760584 0.98940612\n",
      "  0.15086307 0.19904045 0.45416132 0.57739064]] (1, 10)\n"
     ]
    }
   ],
   "execution_count": 41
  }
 ]
}
