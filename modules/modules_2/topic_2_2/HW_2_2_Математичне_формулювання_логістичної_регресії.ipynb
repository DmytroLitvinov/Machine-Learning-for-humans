{
 "nbformat": 4,
 "nbformat_minor": 0,
 "metadata": {
  "colab": {
   "provenance": []
  },
  "kernelspec": {
   "name": "python3",
   "display_name": "Python 3 (ipykernel)",
   "language": "python"
  },
  "language_info": {
   "name": "python"
  }
 },
 "cells": [
  {
   "cell_type": "markdown",
   "source": [
    "В цьому домашньому завданні ми реалізуємо логістичну регресію на `numpy`.\n",
    "Ці завдання допоможуть вам ґрунтовно засвоїти основні концепції логістичної регресії та реалізувати їх на практиці 🔥\n",
    "\n",
    "#### Завдання 1: Реалізація функції сигмоїди\n",
    "1. З використанням `numpy` напишіть функцію `sigmoid(z)` для обчислення значення сигмоїди згідно з формулою:\n",
    "   $$\n",
    "   \\sigma(z) = \\frac{1}{1 + e^{-z}}\n",
    "   $$\n",
    "2. Використовуючи цю функцію, обчисліть значення сигмоїди для наступних даних: $ z = [-2, -1, 0, 1, 2] $. Виведіть результат обчислень.\n"
   ],
   "metadata": {
    "id": "KxRmdyv5CIZe"
   }
  },
  {
   "metadata": {
    "ExecuteTime": {
     "end_time": "2025-01-15T19:18:41.883922Z",
     "start_time": "2025-01-15T19:18:41.881430Z"
    }
   },
   "cell_type": "code",
   "source": "import numpy as np",
   "outputs": [],
   "execution_count": 72
  },
  {
   "cell_type": "code",
   "source": [
    "def sigmoid(z):\n",
    "    return 1 / (1 + np.exp(-z))"
   ],
   "metadata": {
    "id": "v9ilfXulL2wP",
    "ExecuteTime": {
     "end_time": "2025-01-15T19:18:41.897737Z",
     "start_time": "2025-01-15T19:18:41.895853Z"
    }
   },
   "outputs": [],
   "execution_count": 73
  },
  {
   "metadata": {
    "ExecuteTime": {
     "end_time": "2025-01-15T19:18:41.913970Z",
     "start_time": "2025-01-15T19:18:41.911798Z"
    }
   },
   "cell_type": "code",
   "source": [
    "z = np.array([-2, -1, 0, 1, 2])\n",
    "\n",
    "value = sigmoid(z)\n",
    "print(value)"
   ],
   "outputs": [
    {
     "name": "stdout",
     "output_type": "stream",
     "text": [
      "[0.11920292 0.26894142 0.5        0.73105858 0.88079708]\n"
     ]
    }
   ],
   "execution_count": 74
  },
  {
   "cell_type": "markdown",
   "source": [
    "\n",
    "\n",
    "#### Завдання 2: Реалізація функції гіпотези для логістичної регресії\n",
    "1. Напишіть функцію `hypothesis(theta, X)`, яка обчислює гіпотезу для логістичної регресії, використовуючи функцію сигмоїди. Формула гіпотези:\n",
    "   $$\n",
    "   h_\\theta(x) = \\sigma(\\theta^T x) = \\frac{1}{1 + e^{-\\theta^T x}}\n",
    "   $$\n",
    "2. Використайте функцію `hypothesis` для обчислення значень гіпотези для наступних даних:\n",
    "   \n",
    "   $\\theta = [0.5, -0.5]$\n",
    "   \n",
    "   $X = \\begin{bmatrix} 1 & 2 \\\\ 1 & -1 \\\\ 1 & 0 \\\\ 1 & 1 \\end{bmatrix}$\n",
    "\n",
    "  Виведіть результат обчислень.\n"
   ],
   "metadata": {
    "id": "LVd_jCGNCR1F"
   }
  },
  {
   "cell_type": "code",
   "source": [
    "def hypothesis(theta, X):\n",
    "    return sigmoid(X @ theta)"
   ],
   "metadata": {
    "id": "dKDHv-YtL3TA",
    "ExecuteTime": {
     "end_time": "2025-01-15T19:18:41.925239Z",
     "start_time": "2025-01-15T19:18:41.923469Z"
    }
   },
   "outputs": [],
   "execution_count": 75
  },
  {
   "metadata": {
    "ExecuteTime": {
     "end_time": "2025-01-15T19:18:41.941557Z",
     "start_time": "2025-01-15T19:18:41.939335Z"
    }
   },
   "cell_type": "code",
   "source": [
    "theta = np.array([0.5, -0.5])\n",
    "\n",
    "X = np.array([\n",
    "    [1, 2],\n",
    "    [1, -1],\n",
    "    [1, 0],\n",
    "    [1, 1]\n",
    "])\n",
    "\n",
    "value = hypothesis(theta, X)\n",
    "print(value)"
   ],
   "outputs": [
    {
     "name": "stdout",
     "output_type": "stream",
     "text": [
      "[0.37754067 0.73105858 0.62245933 0.5       ]\n"
     ]
    }
   ],
   "execution_count": 76
  },
  {
   "cell_type": "markdown",
   "source": [
    "#### Завдання 3: Реалізація функції для підрахунку градієнтів фукнції втрат\n",
    "1. Напишіть функцію `compute_gradient(theta, X, y)`, яка обчислює градієнти функції втрат для логістичної регресії. Формула для обчислення градієнта:\n",
    "   $$\n",
    "   \\frac{\\partial L(\\theta)}{\\partial \\theta_j} = \\frac{1}{m} \\sum_{i=1}^{m} \\left[ (h_\\theta(x^{(i)}) - y^{(i)}) x_j^{(i)} \\right]\n",
    "   $$\n",
    "2. Використайте функцію `compute_gradient` для обчислення градієнтів для наступних даних:\n",
    "\n",
    "  $\\theta = [0.5, -0.5]$\n",
    "\n",
    "  $X = \\begin{bmatrix} 1 & 2 \\\\ 1 & -1 \\\\ 1 & 0 \\\\ 1 & 1 \\end{bmatrix}$\n",
    "\n",
    "  $y = [1, 0, 1, 0]$\n",
    "\n",
    "  Виведіть результат обчислень."
   ],
   "metadata": {
    "id": "MWASH4Z4ClTo"
   }
  },
  {
   "cell_type": "code",
   "source": [
    "def compute_gradient(theta, X, y):\n",
    "    m = len(y)  # same as X.shape[0]\n",
    "    h = hypothesis(theta, X)\n",
    "    error = h - y\n",
    "    gradient = (1 / m) * (X.T @ error)\n",
    "    return gradient"
   ],
   "metadata": {
    "id": "0DM4xqZCL32i",
    "ExecuteTime": {
     "end_time": "2025-01-15T19:18:41.954763Z",
     "start_time": "2025-01-15T19:18:41.953143Z"
    }
   },
   "outputs": [],
   "execution_count": 77
  },
  {
   "metadata": {
    "ExecuteTime": {
     "end_time": "2025-01-15T19:18:41.971086Z",
     "start_time": "2025-01-15T19:18:41.969360Z"
    }
   },
   "cell_type": "code",
   "source": [
    "theta = np.array([0.5, -0.5])\n",
    "X = np.array([\n",
    "    [1, 2],\n",
    "    [1, -1],\n",
    "    [1, 0],\n",
    "    [1, 1]\n",
    "])\n",
    "y = np.array([1, 0, 1, 0])\n",
    "\n",
    "value = compute_gradient(theta, X, y)\n",
    "print(value)"
   ],
   "outputs": [
    {
     "name": "stdout",
     "output_type": "stream",
     "text": [
      "[ 0.05776464 -0.36899431]\n"
     ]
    }
   ],
   "execution_count": 78
  },
  {
   "cell_type": "markdown",
   "source": [
    "\n",
    "#### Завдання 4: Реалізація повного батч градієнтного спуску\n",
    "\n",
    "**Задача:**\n",
    "1. Напишіть функцію `full_batch_gradient_descent(X, y, lr=0.1, epochs=100)`, яка реалізує алгоритм Full градієнтного спуску для логістичної регресії. Використовуйте такі формули:\n",
    "   - Гіпотеза: $ h_\\theta(x) = \\sigma(\\theta^T x) $\n",
    "   - Оновлення параметрів: $ \\theta_j := \\theta_j - \\alpha \\frac{\\partial L(\\theta)}{\\partial \\theta_j} $\n",
    "2. Використайте функцію `full_batch_gradient_descent` для обчислення параметрів моделі на наступних даних:\n",
    "\n",
    "  $X = \\begin{bmatrix} 1 & 2 \\\\ 1 & -1 \\\\ 1 & 0 \\\\ 1 & 1 \\end{bmatrix}$\n",
    "\n",
    "  $y = [1, 0, 1, 0]$\n",
    "\n",
    "  Увага! Матриця $X$ вже має стовпець одиниць і передбачається, що це. - стовпець для intercept - параметра зсуву.\n",
    "\n",
    "  Виведіть результат обчислень.\n"
   ],
   "metadata": {
    "id": "nOtJEtdnC1K9"
   }
  },
  {
   "cell_type": "code",
   "source": [
    "def full_batch_gradient_descent(X, y, lr=0.1, epochs=100):\n",
    "    n = X.shape[1]\n",
    "    theta = np.zeros(n)\n",
    "    for _ in range(epochs):\n",
    "        gradient = compute_gradient(theta, X, y)\n",
    "        theta -= lr * gradient\n",
    "    return theta"
   ],
   "metadata": {
    "id": "fHtUOTxXL4Yy",
    "ExecuteTime": {
     "end_time": "2025-01-15T19:18:41.981296Z",
     "start_time": "2025-01-15T19:18:41.979556Z"
    }
   },
   "outputs": [],
   "execution_count": 79
  },
  {
   "metadata": {
    "ExecuteTime": {
     "end_time": "2025-01-15T19:18:41.998639Z",
     "start_time": "2025-01-15T19:18:41.996277Z"
    }
   },
   "cell_type": "code",
   "source": [
    "X = np.array([\n",
    "    [1, 2],\n",
    "    [1, -1],\n",
    "    [1, 0],\n",
    "    [1, 1]\n",
    "])\n",
    "y = np.array([1, 0, 1, 0])\n",
    "\n",
    "theta = full_batch_gradient_descent(X, y)\n",
    "print(theta)"
   ],
   "outputs": [
    {
     "name": "stdout",
     "output_type": "stream",
     "text": [
      "[-0.2893693   0.77655125]\n"
     ]
    }
   ],
   "execution_count": 80
  },
  {
   "cell_type": "markdown",
   "source": [
    "#### Завдання 5. Обчислення точності моделі\n",
    "\n",
    "1. Напишіть функцію `predict_proba(theta, X)`, яка використовує знайдені параметри $\\theta$ для обчислення ймовірностей належності поточного прикладу з даних до класу $y=1$ на основі значень $\\sigma(\\theta^T x)$.\n",
    "\n",
    "2. Напишіть функцію `predict(theta, X, threshold=0.5)`, яка обчислює клас з передбаченої імовірності належності екземпляра до класу 1 з порогом 0.5. Тобто якщо ймовірність менше 0.5, то передбачаємо клас 0, інакше клас 1.\n",
    "\n",
    "3. Напишіть функцію `accuracy(y_true, y_pred)`, яка обчислює точність моделі, визначивши частку правильно передбачених класів.\n",
    "\n",
    "  Формула метрики Accuracy:\n",
    "  $$\n",
    "  \\text{Accuracy} = \\frac{\\sum_{i=1}^{m} I(\\hat{{y}^{(i)}} = y^{(i)})}{m}\n",
    "  $$\n",
    "\n",
    "  де $\\hat{{y}^{(i)}}$ - передбачене значення класу, $I$ - індикаторна функція (яка дорівнює 1, якщо умова виконується, і 0 - якщо ні), $m$ - кількість прикладів.\n",
    "\n",
    "4. Обчисліть з використанням даних в завданні 4 $X$, $y$ та обчислених коефіцієнтах $\\theta$ та виведіть на екран:\n",
    "  - передбачені моделлю імовірності належності кожного з екземплярів в матриці `X` до класу 1\n",
    "  - класи кожного екземпляра з матриці `X`\n",
    "  - точність моделі."
   ],
   "metadata": {
    "id": "E4iZV55cE5f3"
   }
  },
  {
   "metadata": {
    "id": "85ZZfPtjrsai",
    "ExecuteTime": {
     "end_time": "2025-01-15T19:18:42.010628Z",
     "start_time": "2025-01-15T19:18:42.007814Z"
    }
   },
   "cell_type": "code",
   "source": [
    "# 1. predict_proba\n",
    "def predict_proba(theta, X):\n",
    "    z = X @ theta\n",
    "    return sigmoid(z)\n",
    "\n",
    "# 2. predict\n",
    "def predict(theta, X, threshold=0.5):\n",
    "    proba = predict_proba(theta, X)\n",
    "    return (proba >= threshold).astype(int)\n",
    "\n",
    "# 3. accuracy\n",
    "def accuracy(y_true, y_pred):\n",
    "    return np.mean(y_true == y_pred)\n",
    "\n",
    "# 4. Compute accuracy\n",
    "y_pred = predict(theta, X)\n",
    "acc = accuracy(y, y_pred)\n",
    "proba = predict_proba(theta, X)\n",
    "\n",
    "print('Передбачені ймовірності від 0 до 1:', proba)\n",
    "print('Класи кожного екземпляра:', y_pred)\n",
    "print('Точіність:', acc)"
   ],
   "outputs": [
    {
     "name": "stdout",
     "output_type": "stream",
     "text": [
      "Передбачені ймовірності від 0 до 1: [0.77966809 0.25617965 0.42815828 0.61944235]\n",
      "Класи кожного екземпляра: [1 0 0 1]\n",
      "Точіність: 0.5\n"
     ]
    }
   ],
   "execution_count": 81
  }
 ]
}
